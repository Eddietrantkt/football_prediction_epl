{
 "cells": [
  {
   "cell_type": "code",
   "execution_count": 9,
   "id": "f1f1ee98",
   "metadata": {},
   "outputs": [],
   "source": [
    "from selenium import webdriver\n",
    "from bs4 import BeautifulSoup\n",
    "import requests\n",
    "import pandas as pd\n",
    "import time"
   ]
  },
  {
   "cell_type": "code",
   "execution_count": 11,
   "id": "b1a2fbea",
   "metadata": {},
   "outputs": [],
   "source": [
    "standing_url = \"https://fbref.com/en/comps/9/Premier-League-Stats\""
   ]
  },
  {
   "cell_type": "code",
   "execution_count": 10,
   "id": "ff8126bd",
   "metadata": {},
   "outputs": [],
   "source": [
    "options = webdriver.ChromeOptions()\n",
    "options.add_argument(\"--headless\")\n",
    "options.add_argument(\"--disable-blink-features=AutomationControlled\")\n",
    "options.add_argument(\"user-agent=Mozilla/5.0 (Windows NT 10.0; Win64; x64)\")\n"
   ]
  },
  {
   "cell_type": "code",
   "execution_count": 26,
   "id": "e68c4c0d",
   "metadata": {},
   "outputs": [
    {
     "name": "stdout",
     "output_type": "stream",
     "text": [
      "✅ Found 20 teams\n",
      "['https://fbref.com/en/squads/18bb7c10/Arsenal-Stats', 'https://fbref.com/en/squads/822bd0ba/Liverpool-Stats', 'https://fbref.com/en/squads/361ca564/Tottenham-Hotspur-Stats']\n",
      "\n",
      "🔗 Getting team data from: https://fbref.com/en/squads/18bb7c10/Arsenal-Stats\n"
     ]
    },
    {
     "name": "stderr",
     "output_type": "stream",
     "text": [
      "C:\\Users\\ASUS\\AppData\\Local\\Temp\\ipykernel_3548\\2686024295.py:27: FutureWarning: Passing literal html to 'read_html' is deprecated and will be removed in a future version. To read from a literal string, wrap it in a 'StringIO' object.\n",
      "  tables = pd.read_html(str(team_soup), match=\"Scores & Fixtures\", flavor=\"lxml\")\n"
     ]
    },
    {
     "name": "stdout",
     "output_type": "stream",
     "text": [
      "\n",
      "✅ Sample of matches table:\n",
      "         Date           Time            Comp         Round  Day Venue Result  \\\n",
      "0  2025-08-17  16:30 (22:30)  Premier League   Matchweek 1  Sun  Away      W   \n",
      "1  2025-08-23  17:30 (23:30)  Premier League   Matchweek 2  Sat  Home      W   \n",
      "2  2025-08-31  16:30 (22:30)  Premier League   Matchweek 3  Sun  Away      L   \n",
      "3  2025-09-13  12:30 (18:30)  Premier League   Matchweek 4  Sat  Home      W   \n",
      "4  2025-09-16  18:45 (23:45)    Champions Lg  League phase  Tue  Away      W   \n",
      "\n",
      "  GF GA          Opponent   xG  xGA Poss Attendance            Captain  \\\n",
      "0  1  0    Manchester Utd  1.3  1.5   39      73475    Martin Ødegaard   \n",
      "1  5  0      Leeds United  2.7  0.2   67      60110    Martin Ødegaard   \n",
      "2  0  1         Liverpool  0.5  0.5   47      60455  Gabriel Magalhães   \n",
      "3  3  0   Nott'ham Forest  1.8  0.2   54      60167    Martin Ødegaard   \n",
      "4  2  0  es Athletic Club  1.3  0.3   61      51059  Gabriel Magalhães   \n",
      "\n",
      "  Formation Opp Formation         Referee  Match Report Notes  \n",
      "0     4-3-3         3-4-3    Simon Hooper  Match Report   NaN  \n",
      "1     4-3-3         4-3-3  Jarred Gillett  Match Report   NaN  \n",
      "2     4-3-3       4-2-3-1  Chris Kavanagh  Match Report   NaN  \n",
      "3     4-3-3       4-2-3-1  Darren England  Match Report   NaN  \n",
      "4     4-3-3       4-2-3-1  Donatas Rumšas  Match Report   NaN  \n",
      "\n",
      "📊 Shooting stats URL: https://fbref.com/en/squads/18bb7c10/2025-2026/matchlogs/all_comps/shooting/Arsenal-Match-Logs-All-Competitions\n"
     ]
    },
    {
     "name": "stderr",
     "output_type": "stream",
     "text": [
      "C:\\Users\\ASUS\\AppData\\Local\\Temp\\ipykernel_3548\\2686024295.py:44: FutureWarning: Passing literal html to 'read_html' is deprecated and will be removed in a future version. To read from a literal string, wrap it in a 'StringIO' object.\n",
      "  shooting_tables = pd.read_html(str(shooting_soup), match=\"Shooting\", flavor=\"lxml\")\n"
     ]
    },
    {
     "name": "stdout",
     "output_type": "stream",
     "text": [
      "\n",
      "✅ Sample of shooting table:\n",
      "  For Arsenal                                                                 \\\n",
      "         Date           Time            Comp         Round  Day Venue Result   \n",
      "0  2025-08-17  16:30 (22:30)  Premier League   Matchweek 1  Sun  Away      W   \n",
      "1  2025-08-23  17:30 (23:30)  Premier League   Matchweek 2  Sat  Home      W   \n",
      "2  2025-08-31  16:30 (22:30)  Premier League   Matchweek 3  Sun  Away      L   \n",
      "3  2025-09-13  12:30 (18:30)  Premier League   Matchweek 4  Sat  Home      W   \n",
      "4  2025-09-16  18:45 (23:45)    Champions Lg  League phase  Tue  Away      W   \n",
      "\n",
      "                               ... Standard               Expected       \\\n",
      "    GF   GA          Opponent  ...     Dist   FK PK PKatt       xG npxG   \n",
      "0  1.0  0.0    Manchester Utd  ...     18.6  1.0  0     0      1.3  1.3   \n",
      "1  5.0  0.0      Leeds United  ...     15.2  0.0  1     1      2.7  1.9   \n",
      "2  0.0  1.0         Liverpool  ...     17.5  1.0  0     0      0.5  0.5   \n",
      "3  3.0  0.0   Nott'ham Forest  ...     13.5  0.0  0     0      1.8  1.8   \n",
      "4  2.0  0.0  es Athletic Club  ...     13.5  0.0  0     0      1.3  1.3   \n",
      "\n",
      "                       Unnamed: 25_level_0  \n",
      "  npxG/Sh G-xG np:G-xG        Match Report  \n",
      "0    0.15 -0.3    -0.3        Match Report  \n",
      "1    0.12  2.3     2.1        Match Report  \n",
      "2    0.04 -0.5    -0.5        Match Report  \n",
      "3    0.11  1.2     1.2        Match Report  \n",
      "4    0.12  0.7     0.7        Match Report  \n",
      "\n",
      "[5 rows x 26 columns]\n"
     ]
    }
   ],
   "source": [
    "driver = webdriver.Chrome(options=options)\n",
    "driver.get(standing_url)\n",
    "time.sleep(5)\n",
    "\n",
    "soup = BeautifulSoup(driver.page_source, \"html.parser\")\n",
    "standings_table = soup.select_one(\"table.stats_table\")\n",
    "\n",
    "if standings_table is None:\n",
    "    print(\"❌ Could not find the standings table.\")\n",
    "    driver.quit()\n",
    "else:\n",
    "    links = [a.get(\"href\") for a in standings_table.find_all(\"a\") if \"/squads/\" in a.get(\"href\", \"\")]\n",
    "    base_url = \"https://fbref.com\"\n",
    "    team_urls = [base_url + link for link in links]\n",
    "\n",
    "    print(f\"✅ Found {len(team_urls)} teams\")\n",
    "    print(team_urls[:3])\n",
    "\n",
    "    # --- Lấy dữ liệu đội đầu tiên ---\n",
    "    team_url = team_urls[0]\n",
    "    print(f\"\\n🔗 Getting team data from: {team_url}\")\n",
    "    driver.get(team_url)\n",
    "    time.sleep(5)\n",
    "\n",
    "    # --- Lấy bảng Scores & Fixtures ---\n",
    "    team_soup = BeautifulSoup(driver.page_source, \"html.parser\")\n",
    "    tables = pd.read_html(str(team_soup), match=\"Scores & Fixtures\", flavor=\"lxml\")\n",
    "    matches = tables[0]\n",
    "    print(\"\\n✅ Sample of matches table:\")\n",
    "    print(matches.head())\n",
    "\n",
    "    # --- Tìm link đến bảng Shooting ---\n",
    "    links = [a.get(\"href\") for a in team_soup.find_all(\"a\") if a.get(\"href\")]\n",
    "    shooting_links = [l for l in links if \"all_comps/shooting/\" in l]\n",
    "\n",
    "    if shooting_links:\n",
    "        shooting_url = f\"https://fbref.com{shooting_links[0]}\"\n",
    "        print(f\"\\n📊 Shooting stats URL: {shooting_url}\")\n",
    "\n",
    "        driver.get(shooting_url)\n",
    "        time.sleep(5)\n",
    "\n",
    "        shooting_soup = BeautifulSoup(driver.page_source, \"html.parser\")\n",
    "        shooting_tables = pd.read_html(str(shooting_soup), match=\"Shooting\", flavor=\"lxml\")\n",
    "        shooting = shooting_tables[0]\n",
    "        print(\"\\n✅ Sample of shooting table:\")\n",
    "        print(shooting.head())\n",
    "    else:\n",
    "        print(\"⚠️ No shooting table found for this team.\")\n",
    "\n",
    "driver.quit()"
   ]
  },
  {
   "cell_type": "code",
   "execution_count": 27,
   "id": "51ca5170",
   "metadata": {},
   "outputs": [],
   "source": [
    "shooting.columns = shooting.columns.droplevel()    "
   ]
  },
  {
   "cell_type": "code",
   "execution_count": 28,
   "id": "8ed9d94e",
   "metadata": {},
   "outputs": [
    {
     "data": {
      "text/html": [
       "<div>\n",
       "<style scoped>\n",
       "    .dataframe tbody tr th:only-of-type {\n",
       "        vertical-align: middle;\n",
       "    }\n",
       "\n",
       "    .dataframe tbody tr th {\n",
       "        vertical-align: top;\n",
       "    }\n",
       "\n",
       "    .dataframe thead th {\n",
       "        text-align: right;\n",
       "    }\n",
       "</style>\n",
       "<table border=\"1\" class=\"dataframe\">\n",
       "  <thead>\n",
       "    <tr style=\"text-align: right;\">\n",
       "      <th></th>\n",
       "      <th>Date</th>\n",
       "      <th>Time</th>\n",
       "      <th>Comp</th>\n",
       "      <th>Round</th>\n",
       "      <th>Day</th>\n",
       "      <th>Venue</th>\n",
       "      <th>Result</th>\n",
       "      <th>GF</th>\n",
       "      <th>GA</th>\n",
       "      <th>Opponent</th>\n",
       "      <th>...</th>\n",
       "      <th>Dist</th>\n",
       "      <th>FK</th>\n",
       "      <th>PK</th>\n",
       "      <th>PKatt</th>\n",
       "      <th>xG</th>\n",
       "      <th>npxG</th>\n",
       "      <th>npxG/Sh</th>\n",
       "      <th>G-xG</th>\n",
       "      <th>np:G-xG</th>\n",
       "      <th>Match Report</th>\n",
       "    </tr>\n",
       "  </thead>\n",
       "  <tbody>\n",
       "    <tr>\n",
       "      <th>0</th>\n",
       "      <td>2025-08-17</td>\n",
       "      <td>16:30 (22:30)</td>\n",
       "      <td>Premier League</td>\n",
       "      <td>Matchweek 1</td>\n",
       "      <td>Sun</td>\n",
       "      <td>Away</td>\n",
       "      <td>W</td>\n",
       "      <td>1.0</td>\n",
       "      <td>0.0</td>\n",
       "      <td>Manchester Utd</td>\n",
       "      <td>...</td>\n",
       "      <td>18.6</td>\n",
       "      <td>1.0</td>\n",
       "      <td>0</td>\n",
       "      <td>0</td>\n",
       "      <td>1.3</td>\n",
       "      <td>1.3</td>\n",
       "      <td>0.15</td>\n",
       "      <td>-0.3</td>\n",
       "      <td>-0.3</td>\n",
       "      <td>Match Report</td>\n",
       "    </tr>\n",
       "    <tr>\n",
       "      <th>1</th>\n",
       "      <td>2025-08-23</td>\n",
       "      <td>17:30 (23:30)</td>\n",
       "      <td>Premier League</td>\n",
       "      <td>Matchweek 2</td>\n",
       "      <td>Sat</td>\n",
       "      <td>Home</td>\n",
       "      <td>W</td>\n",
       "      <td>5.0</td>\n",
       "      <td>0.0</td>\n",
       "      <td>Leeds United</td>\n",
       "      <td>...</td>\n",
       "      <td>15.2</td>\n",
       "      <td>0.0</td>\n",
       "      <td>1</td>\n",
       "      <td>1</td>\n",
       "      <td>2.7</td>\n",
       "      <td>1.9</td>\n",
       "      <td>0.12</td>\n",
       "      <td>2.3</td>\n",
       "      <td>2.1</td>\n",
       "      <td>Match Report</td>\n",
       "    </tr>\n",
       "    <tr>\n",
       "      <th>2</th>\n",
       "      <td>2025-08-31</td>\n",
       "      <td>16:30 (22:30)</td>\n",
       "      <td>Premier League</td>\n",
       "      <td>Matchweek 3</td>\n",
       "      <td>Sun</td>\n",
       "      <td>Away</td>\n",
       "      <td>L</td>\n",
       "      <td>0.0</td>\n",
       "      <td>1.0</td>\n",
       "      <td>Liverpool</td>\n",
       "      <td>...</td>\n",
       "      <td>17.5</td>\n",
       "      <td>1.0</td>\n",
       "      <td>0</td>\n",
       "      <td>0</td>\n",
       "      <td>0.5</td>\n",
       "      <td>0.5</td>\n",
       "      <td>0.04</td>\n",
       "      <td>-0.5</td>\n",
       "      <td>-0.5</td>\n",
       "      <td>Match Report</td>\n",
       "    </tr>\n",
       "    <tr>\n",
       "      <th>3</th>\n",
       "      <td>2025-09-13</td>\n",
       "      <td>12:30 (18:30)</td>\n",
       "      <td>Premier League</td>\n",
       "      <td>Matchweek 4</td>\n",
       "      <td>Sat</td>\n",
       "      <td>Home</td>\n",
       "      <td>W</td>\n",
       "      <td>3.0</td>\n",
       "      <td>0.0</td>\n",
       "      <td>Nott'ham Forest</td>\n",
       "      <td>...</td>\n",
       "      <td>13.5</td>\n",
       "      <td>0.0</td>\n",
       "      <td>0</td>\n",
       "      <td>0</td>\n",
       "      <td>1.8</td>\n",
       "      <td>1.8</td>\n",
       "      <td>0.11</td>\n",
       "      <td>1.2</td>\n",
       "      <td>1.2</td>\n",
       "      <td>Match Report</td>\n",
       "    </tr>\n",
       "    <tr>\n",
       "      <th>4</th>\n",
       "      <td>2025-09-16</td>\n",
       "      <td>18:45 (23:45)</td>\n",
       "      <td>Champions Lg</td>\n",
       "      <td>League phase</td>\n",
       "      <td>Tue</td>\n",
       "      <td>Away</td>\n",
       "      <td>W</td>\n",
       "      <td>2.0</td>\n",
       "      <td>0.0</td>\n",
       "      <td>es Athletic Club</td>\n",
       "      <td>...</td>\n",
       "      <td>13.5</td>\n",
       "      <td>0.0</td>\n",
       "      <td>0</td>\n",
       "      <td>0</td>\n",
       "      <td>1.3</td>\n",
       "      <td>1.3</td>\n",
       "      <td>0.12</td>\n",
       "      <td>0.7</td>\n",
       "      <td>0.7</td>\n",
       "      <td>Match Report</td>\n",
       "    </tr>\n",
       "  </tbody>\n",
       "</table>\n",
       "<p>5 rows × 26 columns</p>\n",
       "</div>"
      ],
      "text/plain": [
       "         Date           Time            Comp         Round  Day Venue Result  \\\n",
       "0  2025-08-17  16:30 (22:30)  Premier League   Matchweek 1  Sun  Away      W   \n",
       "1  2025-08-23  17:30 (23:30)  Premier League   Matchweek 2  Sat  Home      W   \n",
       "2  2025-08-31  16:30 (22:30)  Premier League   Matchweek 3  Sun  Away      L   \n",
       "3  2025-09-13  12:30 (18:30)  Premier League   Matchweek 4  Sat  Home      W   \n",
       "4  2025-09-16  18:45 (23:45)    Champions Lg  League phase  Tue  Away      W   \n",
       "\n",
       "    GF   GA          Opponent  ...  Dist   FK  PK  PKatt   xG  npxG  npxG/Sh  \\\n",
       "0  1.0  0.0    Manchester Utd  ...  18.6  1.0   0      0  1.3   1.3     0.15   \n",
       "1  5.0  0.0      Leeds United  ...  15.2  0.0   1      1  2.7   1.9     0.12   \n",
       "2  0.0  1.0         Liverpool  ...  17.5  1.0   0      0  0.5   0.5     0.04   \n",
       "3  3.0  0.0   Nott'ham Forest  ...  13.5  0.0   0      0  1.8   1.8     0.11   \n",
       "4  2.0  0.0  es Athletic Club  ...  13.5  0.0   0      0  1.3   1.3     0.12   \n",
       "\n",
       "   G-xG  np:G-xG  Match Report  \n",
       "0  -0.3     -0.3  Match Report  \n",
       "1   2.3      2.1  Match Report  \n",
       "2  -0.5     -0.5  Match Report  \n",
       "3   1.2      1.2  Match Report  \n",
       "4   0.7      0.7  Match Report  \n",
       "\n",
       "[5 rows x 26 columns]"
      ]
     },
     "execution_count": 28,
     "metadata": {},
     "output_type": "execute_result"
    }
   ],
   "source": [
    "shooting.head()"
   ]
  },
  {
   "cell_type": "code",
   "execution_count": 32,
   "id": "b2073859",
   "metadata": {},
   "outputs": [],
   "source": [
    "team_data = matches.merge(shooting[['Date','Sh','SoT','Dist','FK','PK','PKatt']], on='Date', how='left')"
   ]
  },
  {
   "cell_type": "code",
   "execution_count": 38,
   "id": "233ab204",
   "metadata": {},
   "outputs": [
    {
     "data": {
      "text/plain": [
       "(52, 26)"
      ]
     },
     "execution_count": 38,
     "metadata": {},
     "output_type": "execute_result"
    }
   ],
   "source": [
    "team_data.shape"
   ]
  },
  {
   "cell_type": "code",
   "execution_count": 41,
   "id": "48375396",
   "metadata": {},
   "outputs": [
    {
     "data": {
      "text/plain": [
       "'Arsenal'"
      ]
     },
     "execution_count": 41,
     "metadata": {},
     "output_type": "execute_result"
    }
   ],
   "source": [
    "team_url.split(\"/\")[-1].replace(\"-Stats\",\"\").replace(\"-\",\" \")"
   ]
  },
  {
   "cell_type": "code",
   "execution_count": 12,
   "id": "4b4376de",
   "metadata": {},
   "outputs": [],
   "source": [
    "years = list(range(2025, 2020, -1))"
   ]
  },
  {
   "cell_type": "code",
   "execution_count": 13,
   "id": "464ef5a1",
   "metadata": {},
   "outputs": [],
   "source": [
    "all_matches = []"
   ]
  },
  {
   "cell_type": "code",
   "execution_count": 14,
   "id": "402a2f97",
   "metadata": {},
   "outputs": [],
   "source": [
    "standing_url = \"https://fbref.com/en/comps/9/Premier-League-Stats\"\n",
    "base_url = \"https://fbref.com\""
   ]
  },
  {
   "cell_type": "code",
   "execution_count": 15,
   "id": "f8f83a52",
   "metadata": {},
   "outputs": [],
   "source": [
    "options = webdriver.ChromeOptions()\n",
    "options.add_argument(\"--headless\")\n",
    "options.add_argument(\"--disable-blink-features=AutomationControlled\")\n",
    "options.add_argument(\"user-agent=Mozilla/5.0 (Windows NT 10.0; Win64; x64)\")"
   ]
  },
  {
   "cell_type": "code",
   "execution_count": 16,
   "id": "024129ec",
   "metadata": {},
   "outputs": [
    {
     "name": "stdout",
     "output_type": "stream",
     "text": [
      "\n",
      "📅 Getting data for season 2025...\n",
      "✅ Found 20 teams\n",
      "\n",
      "[1/20] Getting data for: Arsenal\n"
     ]
    },
    {
     "name": "stderr",
     "output_type": "stream",
     "text": [
      "C:\\Users\\ASUS\\AppData\\Local\\Temp\\ipykernel_15860\\273367810.py:29: FutureWarning: Passing literal html to 'read_html' is deprecated and will be removed in a future version. To read from a literal string, wrap it in a 'StringIO' object.\n",
      "  matches = pd.read_html(str(team_soup), match=\"Scores & Fixtures\", flavor=\"lxml\")[0]\n",
      "C:\\Users\\ASUS\\AppData\\Local\\Temp\\ipykernel_15860\\273367810.py:45: FutureWarning: Passing literal html to 'read_html' is deprecated and will be removed in a future version. To read from a literal string, wrap it in a 'StringIO' object.\n",
      "  shooting = pd.read_html(str(shooting_soup), match=\"Shooting\", flavor=\"lxml\")[0]\n"
     ]
    },
    {
     "name": "stdout",
     "output_type": "stream",
     "text": [
      "✅ Done: Arsenal (38 matches)\n",
      "\n",
      "[2/20] Getting data for: Liverpool\n"
     ]
    },
    {
     "name": "stderr",
     "output_type": "stream",
     "text": [
      "C:\\Users\\ASUS\\AppData\\Local\\Temp\\ipykernel_15860\\273367810.py:29: FutureWarning: Passing literal html to 'read_html' is deprecated and will be removed in a future version. To read from a literal string, wrap it in a 'StringIO' object.\n",
      "  matches = pd.read_html(str(team_soup), match=\"Scores & Fixtures\", flavor=\"lxml\")[0]\n",
      "C:\\Users\\ASUS\\AppData\\Local\\Temp\\ipykernel_15860\\273367810.py:45: FutureWarning: Passing literal html to 'read_html' is deprecated and will be removed in a future version. To read from a literal string, wrap it in a 'StringIO' object.\n",
      "  shooting = pd.read_html(str(shooting_soup), match=\"Shooting\", flavor=\"lxml\")[0]\n"
     ]
    },
    {
     "name": "stdout",
     "output_type": "stream",
     "text": [
      "✅ Done: Liverpool (38 matches)\n",
      "\n",
      "[3/20] Getting data for: Tottenham Hotspur\n"
     ]
    },
    {
     "name": "stderr",
     "output_type": "stream",
     "text": [
      "C:\\Users\\ASUS\\AppData\\Local\\Temp\\ipykernel_15860\\273367810.py:29: FutureWarning: Passing literal html to 'read_html' is deprecated and will be removed in a future version. To read from a literal string, wrap it in a 'StringIO' object.\n",
      "  matches = pd.read_html(str(team_soup), match=\"Scores & Fixtures\", flavor=\"lxml\")[0]\n",
      "C:\\Users\\ASUS\\AppData\\Local\\Temp\\ipykernel_15860\\273367810.py:45: FutureWarning: Passing literal html to 'read_html' is deprecated and will be removed in a future version. To read from a literal string, wrap it in a 'StringIO' object.\n",
      "  shooting = pd.read_html(str(shooting_soup), match=\"Shooting\", flavor=\"lxml\")[0]\n"
     ]
    },
    {
     "name": "stdout",
     "output_type": "stream",
     "text": [
      "✅ Done: Tottenham Hotspur (38 matches)\n",
      "\n",
      "[4/20] Getting data for: Bournemouth\n"
     ]
    },
    {
     "name": "stderr",
     "output_type": "stream",
     "text": [
      "C:\\Users\\ASUS\\AppData\\Local\\Temp\\ipykernel_15860\\273367810.py:29: FutureWarning: Passing literal html to 'read_html' is deprecated and will be removed in a future version. To read from a literal string, wrap it in a 'StringIO' object.\n",
      "  matches = pd.read_html(str(team_soup), match=\"Scores & Fixtures\", flavor=\"lxml\")[0]\n",
      "C:\\Users\\ASUS\\AppData\\Local\\Temp\\ipykernel_15860\\273367810.py:45: FutureWarning: Passing literal html to 'read_html' is deprecated and will be removed in a future version. To read from a literal string, wrap it in a 'StringIO' object.\n",
      "  shooting = pd.read_html(str(shooting_soup), match=\"Shooting\", flavor=\"lxml\")[0]\n"
     ]
    },
    {
     "name": "stdout",
     "output_type": "stream",
     "text": [
      "✅ Done: Bournemouth (38 matches)\n",
      "\n",
      "[5/20] Getting data for: Manchester City\n"
     ]
    },
    {
     "name": "stderr",
     "output_type": "stream",
     "text": [
      "C:\\Users\\ASUS\\AppData\\Local\\Temp\\ipykernel_15860\\273367810.py:29: FutureWarning: Passing literal html to 'read_html' is deprecated and will be removed in a future version. To read from a literal string, wrap it in a 'StringIO' object.\n",
      "  matches = pd.read_html(str(team_soup), match=\"Scores & Fixtures\", flavor=\"lxml\")[0]\n",
      "C:\\Users\\ASUS\\AppData\\Local\\Temp\\ipykernel_15860\\273367810.py:45: FutureWarning: Passing literal html to 'read_html' is deprecated and will be removed in a future version. To read from a literal string, wrap it in a 'StringIO' object.\n",
      "  shooting = pd.read_html(str(shooting_soup), match=\"Shooting\", flavor=\"lxml\")[0]\n"
     ]
    },
    {
     "name": "stdout",
     "output_type": "stream",
     "text": [
      "✅ Done: Manchester City (38 matches)\n",
      "\n",
      "[6/20] Getting data for: Crystal Palace\n"
     ]
    },
    {
     "name": "stderr",
     "output_type": "stream",
     "text": [
      "C:\\Users\\ASUS\\AppData\\Local\\Temp\\ipykernel_15860\\273367810.py:29: FutureWarning: Passing literal html to 'read_html' is deprecated and will be removed in a future version. To read from a literal string, wrap it in a 'StringIO' object.\n",
      "  matches = pd.read_html(str(team_soup), match=\"Scores & Fixtures\", flavor=\"lxml\")[0]\n",
      "C:\\Users\\ASUS\\AppData\\Local\\Temp\\ipykernel_15860\\273367810.py:45: FutureWarning: Passing literal html to 'read_html' is deprecated and will be removed in a future version. To read from a literal string, wrap it in a 'StringIO' object.\n",
      "  shooting = pd.read_html(str(shooting_soup), match=\"Shooting\", flavor=\"lxml\")[0]\n"
     ]
    },
    {
     "name": "stdout",
     "output_type": "stream",
     "text": [
      "✅ Done: Crystal Palace (38 matches)\n",
      "\n",
      "[7/20] Getting data for: Chelsea\n"
     ]
    },
    {
     "name": "stderr",
     "output_type": "stream",
     "text": [
      "C:\\Users\\ASUS\\AppData\\Local\\Temp\\ipykernel_15860\\273367810.py:29: FutureWarning: Passing literal html to 'read_html' is deprecated and will be removed in a future version. To read from a literal string, wrap it in a 'StringIO' object.\n",
      "  matches = pd.read_html(str(team_soup), match=\"Scores & Fixtures\", flavor=\"lxml\")[0]\n",
      "C:\\Users\\ASUS\\AppData\\Local\\Temp\\ipykernel_15860\\273367810.py:45: FutureWarning: Passing literal html to 'read_html' is deprecated and will be removed in a future version. To read from a literal string, wrap it in a 'StringIO' object.\n",
      "  shooting = pd.read_html(str(shooting_soup), match=\"Shooting\", flavor=\"lxml\")[0]\n"
     ]
    },
    {
     "name": "stdout",
     "output_type": "stream",
     "text": [
      "✅ Done: Chelsea (38 matches)\n",
      "\n",
      "[8/20] Getting data for: Everton\n"
     ]
    },
    {
     "name": "stderr",
     "output_type": "stream",
     "text": [
      "C:\\Users\\ASUS\\AppData\\Local\\Temp\\ipykernel_15860\\273367810.py:29: FutureWarning: Passing literal html to 'read_html' is deprecated and will be removed in a future version. To read from a literal string, wrap it in a 'StringIO' object.\n",
      "  matches = pd.read_html(str(team_soup), match=\"Scores & Fixtures\", flavor=\"lxml\")[0]\n",
      "C:\\Users\\ASUS\\AppData\\Local\\Temp\\ipykernel_15860\\273367810.py:45: FutureWarning: Passing literal html to 'read_html' is deprecated and will be removed in a future version. To read from a literal string, wrap it in a 'StringIO' object.\n",
      "  shooting = pd.read_html(str(shooting_soup), match=\"Shooting\", flavor=\"lxml\")[0]\n"
     ]
    },
    {
     "name": "stdout",
     "output_type": "stream",
     "text": [
      "✅ Done: Everton (38 matches)\n",
      "\n",
      "[9/20] Getting data for: Sunderland\n"
     ]
    },
    {
     "name": "stderr",
     "output_type": "stream",
     "text": [
      "C:\\Users\\ASUS\\AppData\\Local\\Temp\\ipykernel_15860\\273367810.py:29: FutureWarning: Passing literal html to 'read_html' is deprecated and will be removed in a future version. To read from a literal string, wrap it in a 'StringIO' object.\n",
      "  matches = pd.read_html(str(team_soup), match=\"Scores & Fixtures\", flavor=\"lxml\")[0]\n",
      "C:\\Users\\ASUS\\AppData\\Local\\Temp\\ipykernel_15860\\273367810.py:45: FutureWarning: Passing literal html to 'read_html' is deprecated and will be removed in a future version. To read from a literal string, wrap it in a 'StringIO' object.\n",
      "  shooting = pd.read_html(str(shooting_soup), match=\"Shooting\", flavor=\"lxml\")[0]\n"
     ]
    },
    {
     "name": "stdout",
     "output_type": "stream",
     "text": [
      "✅ Done: Sunderland (38 matches)\n",
      "\n",
      "[10/20] Getting data for: Manchester United\n"
     ]
    },
    {
     "name": "stderr",
     "output_type": "stream",
     "text": [
      "C:\\Users\\ASUS\\AppData\\Local\\Temp\\ipykernel_15860\\273367810.py:29: FutureWarning: Passing literal html to 'read_html' is deprecated and will be removed in a future version. To read from a literal string, wrap it in a 'StringIO' object.\n",
      "  matches = pd.read_html(str(team_soup), match=\"Scores & Fixtures\", flavor=\"lxml\")[0]\n",
      "C:\\Users\\ASUS\\AppData\\Local\\Temp\\ipykernel_15860\\273367810.py:45: FutureWarning: Passing literal html to 'read_html' is deprecated and will be removed in a future version. To read from a literal string, wrap it in a 'StringIO' object.\n",
      "  shooting = pd.read_html(str(shooting_soup), match=\"Shooting\", flavor=\"lxml\")[0]\n"
     ]
    },
    {
     "name": "stdout",
     "output_type": "stream",
     "text": [
      "✅ Done: Manchester United (38 matches)\n",
      "\n",
      "[11/20] Getting data for: Newcastle United\n"
     ]
    },
    {
     "name": "stderr",
     "output_type": "stream",
     "text": [
      "C:\\Users\\ASUS\\AppData\\Local\\Temp\\ipykernel_15860\\273367810.py:29: FutureWarning: Passing literal html to 'read_html' is deprecated and will be removed in a future version. To read from a literal string, wrap it in a 'StringIO' object.\n",
      "  matches = pd.read_html(str(team_soup), match=\"Scores & Fixtures\", flavor=\"lxml\")[0]\n",
      "C:\\Users\\ASUS\\AppData\\Local\\Temp\\ipykernel_15860\\273367810.py:45: FutureWarning: Passing literal html to 'read_html' is deprecated and will be removed in a future version. To read from a literal string, wrap it in a 'StringIO' object.\n",
      "  shooting = pd.read_html(str(shooting_soup), match=\"Shooting\", flavor=\"lxml\")[0]\n"
     ]
    },
    {
     "name": "stdout",
     "output_type": "stream",
     "text": [
      "✅ Done: Newcastle United (38 matches)\n",
      "\n",
      "[12/20] Getting data for: Brighton and Hove Albion\n"
     ]
    },
    {
     "name": "stderr",
     "output_type": "stream",
     "text": [
      "C:\\Users\\ASUS\\AppData\\Local\\Temp\\ipykernel_15860\\273367810.py:29: FutureWarning: Passing literal html to 'read_html' is deprecated and will be removed in a future version. To read from a literal string, wrap it in a 'StringIO' object.\n",
      "  matches = pd.read_html(str(team_soup), match=\"Scores & Fixtures\", flavor=\"lxml\")[0]\n",
      "C:\\Users\\ASUS\\AppData\\Local\\Temp\\ipykernel_15860\\273367810.py:45: FutureWarning: Passing literal html to 'read_html' is deprecated and will be removed in a future version. To read from a literal string, wrap it in a 'StringIO' object.\n",
      "  shooting = pd.read_html(str(shooting_soup), match=\"Shooting\", flavor=\"lxml\")[0]\n"
     ]
    },
    {
     "name": "stdout",
     "output_type": "stream",
     "text": [
      "✅ Done: Brighton and Hove Albion (38 matches)\n",
      "\n",
      "[13/20] Getting data for: Aston Villa\n"
     ]
    },
    {
     "name": "stderr",
     "output_type": "stream",
     "text": [
      "C:\\Users\\ASUS\\AppData\\Local\\Temp\\ipykernel_15860\\273367810.py:29: FutureWarning: Passing literal html to 'read_html' is deprecated and will be removed in a future version. To read from a literal string, wrap it in a 'StringIO' object.\n",
      "  matches = pd.read_html(str(team_soup), match=\"Scores & Fixtures\", flavor=\"lxml\")[0]\n",
      "C:\\Users\\ASUS\\AppData\\Local\\Temp\\ipykernel_15860\\273367810.py:45: FutureWarning: Passing literal html to 'read_html' is deprecated and will be removed in a future version. To read from a literal string, wrap it in a 'StringIO' object.\n",
      "  shooting = pd.read_html(str(shooting_soup), match=\"Shooting\", flavor=\"lxml\")[0]\n"
     ]
    },
    {
     "name": "stdout",
     "output_type": "stream",
     "text": [
      "✅ Done: Aston Villa (38 matches)\n",
      "\n",
      "[14/20] Getting data for: Fulham\n"
     ]
    },
    {
     "name": "stderr",
     "output_type": "stream",
     "text": [
      "C:\\Users\\ASUS\\AppData\\Local\\Temp\\ipykernel_15860\\273367810.py:29: FutureWarning: Passing literal html to 'read_html' is deprecated and will be removed in a future version. To read from a literal string, wrap it in a 'StringIO' object.\n",
      "  matches = pd.read_html(str(team_soup), match=\"Scores & Fixtures\", flavor=\"lxml\")[0]\n",
      "C:\\Users\\ASUS\\AppData\\Local\\Temp\\ipykernel_15860\\273367810.py:45: FutureWarning: Passing literal html to 'read_html' is deprecated and will be removed in a future version. To read from a literal string, wrap it in a 'StringIO' object.\n",
      "  shooting = pd.read_html(str(shooting_soup), match=\"Shooting\", flavor=\"lxml\")[0]\n"
     ]
    },
    {
     "name": "stdout",
     "output_type": "stream",
     "text": [
      "✅ Done: Fulham (38 matches)\n",
      "\n",
      "[15/20] Getting data for: Leeds United\n"
     ]
    },
    {
     "name": "stderr",
     "output_type": "stream",
     "text": [
      "C:\\Users\\ASUS\\AppData\\Local\\Temp\\ipykernel_15860\\273367810.py:29: FutureWarning: Passing literal html to 'read_html' is deprecated and will be removed in a future version. To read from a literal string, wrap it in a 'StringIO' object.\n",
      "  matches = pd.read_html(str(team_soup), match=\"Scores & Fixtures\", flavor=\"lxml\")[0]\n",
      "C:\\Users\\ASUS\\AppData\\Local\\Temp\\ipykernel_15860\\273367810.py:45: FutureWarning: Passing literal html to 'read_html' is deprecated and will be removed in a future version. To read from a literal string, wrap it in a 'StringIO' object.\n",
      "  shooting = pd.read_html(str(shooting_soup), match=\"Shooting\", flavor=\"lxml\")[0]\n"
     ]
    },
    {
     "name": "stdout",
     "output_type": "stream",
     "text": [
      "✅ Done: Leeds United (38 matches)\n",
      "\n",
      "[16/20] Getting data for: Brentford\n"
     ]
    },
    {
     "name": "stderr",
     "output_type": "stream",
     "text": [
      "C:\\Users\\ASUS\\AppData\\Local\\Temp\\ipykernel_15860\\273367810.py:29: FutureWarning: Passing literal html to 'read_html' is deprecated and will be removed in a future version. To read from a literal string, wrap it in a 'StringIO' object.\n",
      "  matches = pd.read_html(str(team_soup), match=\"Scores & Fixtures\", flavor=\"lxml\")[0]\n",
      "C:\\Users\\ASUS\\AppData\\Local\\Temp\\ipykernel_15860\\273367810.py:45: FutureWarning: Passing literal html to 'read_html' is deprecated and will be removed in a future version. To read from a literal string, wrap it in a 'StringIO' object.\n",
      "  shooting = pd.read_html(str(shooting_soup), match=\"Shooting\", flavor=\"lxml\")[0]\n"
     ]
    },
    {
     "name": "stdout",
     "output_type": "stream",
     "text": [
      "✅ Done: Brentford (38 matches)\n",
      "\n",
      "[17/20] Getting data for: Nottingham Forest\n"
     ]
    },
    {
     "name": "stderr",
     "output_type": "stream",
     "text": [
      "C:\\Users\\ASUS\\AppData\\Local\\Temp\\ipykernel_15860\\273367810.py:29: FutureWarning: Passing literal html to 'read_html' is deprecated and will be removed in a future version. To read from a literal string, wrap it in a 'StringIO' object.\n",
      "  matches = pd.read_html(str(team_soup), match=\"Scores & Fixtures\", flavor=\"lxml\")[0]\n",
      "C:\\Users\\ASUS\\AppData\\Local\\Temp\\ipykernel_15860\\273367810.py:45: FutureWarning: Passing literal html to 'read_html' is deprecated and will be removed in a future version. To read from a literal string, wrap it in a 'StringIO' object.\n",
      "  shooting = pd.read_html(str(shooting_soup), match=\"Shooting\", flavor=\"lxml\")[0]\n"
     ]
    },
    {
     "name": "stdout",
     "output_type": "stream",
     "text": [
      "✅ Done: Nottingham Forest (38 matches)\n",
      "\n",
      "[18/20] Getting data for: Burnley\n"
     ]
    },
    {
     "name": "stderr",
     "output_type": "stream",
     "text": [
      "C:\\Users\\ASUS\\AppData\\Local\\Temp\\ipykernel_15860\\273367810.py:29: FutureWarning: Passing literal html to 'read_html' is deprecated and will be removed in a future version. To read from a literal string, wrap it in a 'StringIO' object.\n",
      "  matches = pd.read_html(str(team_soup), match=\"Scores & Fixtures\", flavor=\"lxml\")[0]\n",
      "C:\\Users\\ASUS\\AppData\\Local\\Temp\\ipykernel_15860\\273367810.py:45: FutureWarning: Passing literal html to 'read_html' is deprecated and will be removed in a future version. To read from a literal string, wrap it in a 'StringIO' object.\n",
      "  shooting = pd.read_html(str(shooting_soup), match=\"Shooting\", flavor=\"lxml\")[0]\n"
     ]
    },
    {
     "name": "stdout",
     "output_type": "stream",
     "text": [
      "✅ Done: Burnley (38 matches)\n",
      "\n",
      "[19/20] Getting data for: West Ham United\n"
     ]
    },
    {
     "name": "stderr",
     "output_type": "stream",
     "text": [
      "C:\\Users\\ASUS\\AppData\\Local\\Temp\\ipykernel_15860\\273367810.py:29: FutureWarning: Passing literal html to 'read_html' is deprecated and will be removed in a future version. To read from a literal string, wrap it in a 'StringIO' object.\n",
      "  matches = pd.read_html(str(team_soup), match=\"Scores & Fixtures\", flavor=\"lxml\")[0]\n",
      "C:\\Users\\ASUS\\AppData\\Local\\Temp\\ipykernel_15860\\273367810.py:45: FutureWarning: Passing literal html to 'read_html' is deprecated and will be removed in a future version. To read from a literal string, wrap it in a 'StringIO' object.\n",
      "  shooting = pd.read_html(str(shooting_soup), match=\"Shooting\", flavor=\"lxml\")[0]\n"
     ]
    },
    {
     "name": "stdout",
     "output_type": "stream",
     "text": [
      "✅ Done: West Ham United (38 matches)\n",
      "\n",
      "[20/20] Getting data for: Wolverhampton Wanderers\n"
     ]
    },
    {
     "name": "stderr",
     "output_type": "stream",
     "text": [
      "C:\\Users\\ASUS\\AppData\\Local\\Temp\\ipykernel_15860\\273367810.py:29: FutureWarning: Passing literal html to 'read_html' is deprecated and will be removed in a future version. To read from a literal string, wrap it in a 'StringIO' object.\n",
      "  matches = pd.read_html(str(team_soup), match=\"Scores & Fixtures\", flavor=\"lxml\")[0]\n",
      "C:\\Users\\ASUS\\AppData\\Local\\Temp\\ipykernel_15860\\273367810.py:45: FutureWarning: Passing literal html to 'read_html' is deprecated and will be removed in a future version. To read from a literal string, wrap it in a 'StringIO' object.\n",
      "  shooting = pd.read_html(str(shooting_soup), match=\"Shooting\", flavor=\"lxml\")[0]\n"
     ]
    },
    {
     "name": "stdout",
     "output_type": "stream",
     "text": [
      "✅ Done: Wolverhampton Wanderers (38 matches)\n",
      "\n",
      "📅 Getting data for season 2024...\n",
      "✅ Found 20 teams\n",
      "\n",
      "[1/20] Getting data for: Liverpool\n"
     ]
    },
    {
     "name": "stderr",
     "output_type": "stream",
     "text": [
      "C:\\Users\\ASUS\\AppData\\Local\\Temp\\ipykernel_15860\\273367810.py:29: FutureWarning: Passing literal html to 'read_html' is deprecated and will be removed in a future version. To read from a literal string, wrap it in a 'StringIO' object.\n",
      "  matches = pd.read_html(str(team_soup), match=\"Scores & Fixtures\", flavor=\"lxml\")[0]\n",
      "C:\\Users\\ASUS\\AppData\\Local\\Temp\\ipykernel_15860\\273367810.py:45: FutureWarning: Passing literal html to 'read_html' is deprecated and will be removed in a future version. To read from a literal string, wrap it in a 'StringIO' object.\n",
      "  shooting = pd.read_html(str(shooting_soup), match=\"Shooting\", flavor=\"lxml\")[0]\n"
     ]
    },
    {
     "name": "stdout",
     "output_type": "stream",
     "text": [
      "✅ Done: Liverpool (38 matches)\n",
      "\n",
      "[2/20] Getting data for: Arsenal\n"
     ]
    },
    {
     "name": "stderr",
     "output_type": "stream",
     "text": [
      "C:\\Users\\ASUS\\AppData\\Local\\Temp\\ipykernel_15860\\273367810.py:29: FutureWarning: Passing literal html to 'read_html' is deprecated and will be removed in a future version. To read from a literal string, wrap it in a 'StringIO' object.\n",
      "  matches = pd.read_html(str(team_soup), match=\"Scores & Fixtures\", flavor=\"lxml\")[0]\n",
      "C:\\Users\\ASUS\\AppData\\Local\\Temp\\ipykernel_15860\\273367810.py:45: FutureWarning: Passing literal html to 'read_html' is deprecated and will be removed in a future version. To read from a literal string, wrap it in a 'StringIO' object.\n",
      "  shooting = pd.read_html(str(shooting_soup), match=\"Shooting\", flavor=\"lxml\")[0]\n"
     ]
    },
    {
     "name": "stdout",
     "output_type": "stream",
     "text": [
      "✅ Done: Arsenal (38 matches)\n",
      "\n",
      "[3/20] Getting data for: Manchester City\n"
     ]
    },
    {
     "name": "stderr",
     "output_type": "stream",
     "text": [
      "C:\\Users\\ASUS\\AppData\\Local\\Temp\\ipykernel_15860\\273367810.py:29: FutureWarning: Passing literal html to 'read_html' is deprecated and will be removed in a future version. To read from a literal string, wrap it in a 'StringIO' object.\n",
      "  matches = pd.read_html(str(team_soup), match=\"Scores & Fixtures\", flavor=\"lxml\")[0]\n",
      "C:\\Users\\ASUS\\AppData\\Local\\Temp\\ipykernel_15860\\273367810.py:45: FutureWarning: Passing literal html to 'read_html' is deprecated and will be removed in a future version. To read from a literal string, wrap it in a 'StringIO' object.\n",
      "  shooting = pd.read_html(str(shooting_soup), match=\"Shooting\", flavor=\"lxml\")[0]\n"
     ]
    },
    {
     "name": "stdout",
     "output_type": "stream",
     "text": [
      "✅ Done: Manchester City (38 matches)\n",
      "\n",
      "[4/20] Getting data for: Chelsea\n"
     ]
    },
    {
     "name": "stderr",
     "output_type": "stream",
     "text": [
      "C:\\Users\\ASUS\\AppData\\Local\\Temp\\ipykernel_15860\\273367810.py:29: FutureWarning: Passing literal html to 'read_html' is deprecated and will be removed in a future version. To read from a literal string, wrap it in a 'StringIO' object.\n",
      "  matches = pd.read_html(str(team_soup), match=\"Scores & Fixtures\", flavor=\"lxml\")[0]\n",
      "C:\\Users\\ASUS\\AppData\\Local\\Temp\\ipykernel_15860\\273367810.py:45: FutureWarning: Passing literal html to 'read_html' is deprecated and will be removed in a future version. To read from a literal string, wrap it in a 'StringIO' object.\n",
      "  shooting = pd.read_html(str(shooting_soup), match=\"Shooting\", flavor=\"lxml\")[0]\n"
     ]
    },
    {
     "name": "stdout",
     "output_type": "stream",
     "text": [
      "✅ Done: Chelsea (38 matches)\n",
      "\n",
      "[5/20] Getting data for: Newcastle United\n"
     ]
    },
    {
     "name": "stderr",
     "output_type": "stream",
     "text": [
      "C:\\Users\\ASUS\\AppData\\Local\\Temp\\ipykernel_15860\\273367810.py:29: FutureWarning: Passing literal html to 'read_html' is deprecated and will be removed in a future version. To read from a literal string, wrap it in a 'StringIO' object.\n",
      "  matches = pd.read_html(str(team_soup), match=\"Scores & Fixtures\", flavor=\"lxml\")[0]\n",
      "C:\\Users\\ASUS\\AppData\\Local\\Temp\\ipykernel_15860\\273367810.py:45: FutureWarning: Passing literal html to 'read_html' is deprecated and will be removed in a future version. To read from a literal string, wrap it in a 'StringIO' object.\n",
      "  shooting = pd.read_html(str(shooting_soup), match=\"Shooting\", flavor=\"lxml\")[0]\n"
     ]
    },
    {
     "name": "stdout",
     "output_type": "stream",
     "text": [
      "✅ Done: Newcastle United (38 matches)\n",
      "\n",
      "[6/20] Getting data for: Aston Villa\n"
     ]
    },
    {
     "name": "stderr",
     "output_type": "stream",
     "text": [
      "C:\\Users\\ASUS\\AppData\\Local\\Temp\\ipykernel_15860\\273367810.py:29: FutureWarning: Passing literal html to 'read_html' is deprecated and will be removed in a future version. To read from a literal string, wrap it in a 'StringIO' object.\n",
      "  matches = pd.read_html(str(team_soup), match=\"Scores & Fixtures\", flavor=\"lxml\")[0]\n",
      "C:\\Users\\ASUS\\AppData\\Local\\Temp\\ipykernel_15860\\273367810.py:45: FutureWarning: Passing literal html to 'read_html' is deprecated and will be removed in a future version. To read from a literal string, wrap it in a 'StringIO' object.\n",
      "  shooting = pd.read_html(str(shooting_soup), match=\"Shooting\", flavor=\"lxml\")[0]\n"
     ]
    },
    {
     "name": "stdout",
     "output_type": "stream",
     "text": [
      "✅ Done: Aston Villa (38 matches)\n",
      "\n",
      "[7/20] Getting data for: Nottingham Forest\n"
     ]
    },
    {
     "name": "stderr",
     "output_type": "stream",
     "text": [
      "C:\\Users\\ASUS\\AppData\\Local\\Temp\\ipykernel_15860\\273367810.py:29: FutureWarning: Passing literal html to 'read_html' is deprecated and will be removed in a future version. To read from a literal string, wrap it in a 'StringIO' object.\n",
      "  matches = pd.read_html(str(team_soup), match=\"Scores & Fixtures\", flavor=\"lxml\")[0]\n",
      "C:\\Users\\ASUS\\AppData\\Local\\Temp\\ipykernel_15860\\273367810.py:45: FutureWarning: Passing literal html to 'read_html' is deprecated and will be removed in a future version. To read from a literal string, wrap it in a 'StringIO' object.\n",
      "  shooting = pd.read_html(str(shooting_soup), match=\"Shooting\", flavor=\"lxml\")[0]\n"
     ]
    },
    {
     "name": "stdout",
     "output_type": "stream",
     "text": [
      "✅ Done: Nottingham Forest (38 matches)\n",
      "\n",
      "[8/20] Getting data for: Brighton and Hove Albion\n"
     ]
    },
    {
     "name": "stderr",
     "output_type": "stream",
     "text": [
      "C:\\Users\\ASUS\\AppData\\Local\\Temp\\ipykernel_15860\\273367810.py:29: FutureWarning: Passing literal html to 'read_html' is deprecated and will be removed in a future version. To read from a literal string, wrap it in a 'StringIO' object.\n",
      "  matches = pd.read_html(str(team_soup), match=\"Scores & Fixtures\", flavor=\"lxml\")[0]\n",
      "C:\\Users\\ASUS\\AppData\\Local\\Temp\\ipykernel_15860\\273367810.py:45: FutureWarning: Passing literal html to 'read_html' is deprecated and will be removed in a future version. To read from a literal string, wrap it in a 'StringIO' object.\n",
      "  shooting = pd.read_html(str(shooting_soup), match=\"Shooting\", flavor=\"lxml\")[0]\n"
     ]
    },
    {
     "name": "stdout",
     "output_type": "stream",
     "text": [
      "✅ Done: Brighton and Hove Albion (38 matches)\n",
      "\n",
      "[9/20] Getting data for: Bournemouth\n"
     ]
    },
    {
     "name": "stderr",
     "output_type": "stream",
     "text": [
      "C:\\Users\\ASUS\\AppData\\Local\\Temp\\ipykernel_15860\\273367810.py:29: FutureWarning: Passing literal html to 'read_html' is deprecated and will be removed in a future version. To read from a literal string, wrap it in a 'StringIO' object.\n",
      "  matches = pd.read_html(str(team_soup), match=\"Scores & Fixtures\", flavor=\"lxml\")[0]\n",
      "C:\\Users\\ASUS\\AppData\\Local\\Temp\\ipykernel_15860\\273367810.py:45: FutureWarning: Passing literal html to 'read_html' is deprecated and will be removed in a future version. To read from a literal string, wrap it in a 'StringIO' object.\n",
      "  shooting = pd.read_html(str(shooting_soup), match=\"Shooting\", flavor=\"lxml\")[0]\n"
     ]
    },
    {
     "name": "stdout",
     "output_type": "stream",
     "text": [
      "✅ Done: Bournemouth (38 matches)\n",
      "\n",
      "[10/20] Getting data for: Brentford\n"
     ]
    },
    {
     "name": "stderr",
     "output_type": "stream",
     "text": [
      "C:\\Users\\ASUS\\AppData\\Local\\Temp\\ipykernel_15860\\273367810.py:29: FutureWarning: Passing literal html to 'read_html' is deprecated and will be removed in a future version. To read from a literal string, wrap it in a 'StringIO' object.\n",
      "  matches = pd.read_html(str(team_soup), match=\"Scores & Fixtures\", flavor=\"lxml\")[0]\n",
      "C:\\Users\\ASUS\\AppData\\Local\\Temp\\ipykernel_15860\\273367810.py:45: FutureWarning: Passing literal html to 'read_html' is deprecated and will be removed in a future version. To read from a literal string, wrap it in a 'StringIO' object.\n",
      "  shooting = pd.read_html(str(shooting_soup), match=\"Shooting\", flavor=\"lxml\")[0]\n"
     ]
    },
    {
     "name": "stdout",
     "output_type": "stream",
     "text": [
      "✅ Done: Brentford (38 matches)\n",
      "\n",
      "[11/20] Getting data for: Fulham\n"
     ]
    },
    {
     "name": "stderr",
     "output_type": "stream",
     "text": [
      "C:\\Users\\ASUS\\AppData\\Local\\Temp\\ipykernel_15860\\273367810.py:29: FutureWarning: Passing literal html to 'read_html' is deprecated and will be removed in a future version. To read from a literal string, wrap it in a 'StringIO' object.\n",
      "  matches = pd.read_html(str(team_soup), match=\"Scores & Fixtures\", flavor=\"lxml\")[0]\n",
      "C:\\Users\\ASUS\\AppData\\Local\\Temp\\ipykernel_15860\\273367810.py:45: FutureWarning: Passing literal html to 'read_html' is deprecated and will be removed in a future version. To read from a literal string, wrap it in a 'StringIO' object.\n",
      "  shooting = pd.read_html(str(shooting_soup), match=\"Shooting\", flavor=\"lxml\")[0]\n"
     ]
    },
    {
     "name": "stdout",
     "output_type": "stream",
     "text": [
      "✅ Done: Fulham (38 matches)\n",
      "\n",
      "[12/20] Getting data for: Crystal Palace\n"
     ]
    },
    {
     "name": "stderr",
     "output_type": "stream",
     "text": [
      "C:\\Users\\ASUS\\AppData\\Local\\Temp\\ipykernel_15860\\273367810.py:29: FutureWarning: Passing literal html to 'read_html' is deprecated and will be removed in a future version. To read from a literal string, wrap it in a 'StringIO' object.\n",
      "  matches = pd.read_html(str(team_soup), match=\"Scores & Fixtures\", flavor=\"lxml\")[0]\n",
      "C:\\Users\\ASUS\\AppData\\Local\\Temp\\ipykernel_15860\\273367810.py:45: FutureWarning: Passing literal html to 'read_html' is deprecated and will be removed in a future version. To read from a literal string, wrap it in a 'StringIO' object.\n",
      "  shooting = pd.read_html(str(shooting_soup), match=\"Shooting\", flavor=\"lxml\")[0]\n"
     ]
    },
    {
     "name": "stdout",
     "output_type": "stream",
     "text": [
      "✅ Done: Crystal Palace (38 matches)\n",
      "\n",
      "[13/20] Getting data for: Everton\n"
     ]
    },
    {
     "name": "stderr",
     "output_type": "stream",
     "text": [
      "C:\\Users\\ASUS\\AppData\\Local\\Temp\\ipykernel_15860\\273367810.py:29: FutureWarning: Passing literal html to 'read_html' is deprecated and will be removed in a future version. To read from a literal string, wrap it in a 'StringIO' object.\n",
      "  matches = pd.read_html(str(team_soup), match=\"Scores & Fixtures\", flavor=\"lxml\")[0]\n",
      "C:\\Users\\ASUS\\AppData\\Local\\Temp\\ipykernel_15860\\273367810.py:45: FutureWarning: Passing literal html to 'read_html' is deprecated and will be removed in a future version. To read from a literal string, wrap it in a 'StringIO' object.\n",
      "  shooting = pd.read_html(str(shooting_soup), match=\"Shooting\", flavor=\"lxml\")[0]\n"
     ]
    },
    {
     "name": "stdout",
     "output_type": "stream",
     "text": [
      "✅ Done: Everton (38 matches)\n",
      "\n",
      "[14/20] Getting data for: West Ham United\n"
     ]
    },
    {
     "name": "stderr",
     "output_type": "stream",
     "text": [
      "C:\\Users\\ASUS\\AppData\\Local\\Temp\\ipykernel_15860\\273367810.py:29: FutureWarning: Passing literal html to 'read_html' is deprecated and will be removed in a future version. To read from a literal string, wrap it in a 'StringIO' object.\n",
      "  matches = pd.read_html(str(team_soup), match=\"Scores & Fixtures\", flavor=\"lxml\")[0]\n",
      "C:\\Users\\ASUS\\AppData\\Local\\Temp\\ipykernel_15860\\273367810.py:45: FutureWarning: Passing literal html to 'read_html' is deprecated and will be removed in a future version. To read from a literal string, wrap it in a 'StringIO' object.\n",
      "  shooting = pd.read_html(str(shooting_soup), match=\"Shooting\", flavor=\"lxml\")[0]\n"
     ]
    },
    {
     "name": "stdout",
     "output_type": "stream",
     "text": [
      "✅ Done: West Ham United (38 matches)\n",
      "\n",
      "[15/20] Getting data for: Manchester United\n"
     ]
    },
    {
     "name": "stderr",
     "output_type": "stream",
     "text": [
      "C:\\Users\\ASUS\\AppData\\Local\\Temp\\ipykernel_15860\\273367810.py:29: FutureWarning: Passing literal html to 'read_html' is deprecated and will be removed in a future version. To read from a literal string, wrap it in a 'StringIO' object.\n",
      "  matches = pd.read_html(str(team_soup), match=\"Scores & Fixtures\", flavor=\"lxml\")[0]\n",
      "C:\\Users\\ASUS\\AppData\\Local\\Temp\\ipykernel_15860\\273367810.py:45: FutureWarning: Passing literal html to 'read_html' is deprecated and will be removed in a future version. To read from a literal string, wrap it in a 'StringIO' object.\n",
      "  shooting = pd.read_html(str(shooting_soup), match=\"Shooting\", flavor=\"lxml\")[0]\n"
     ]
    },
    {
     "name": "stdout",
     "output_type": "stream",
     "text": [
      "✅ Done: Manchester United (38 matches)\n",
      "\n",
      "[16/20] Getting data for: Wolverhampton Wanderers\n"
     ]
    },
    {
     "name": "stderr",
     "output_type": "stream",
     "text": [
      "C:\\Users\\ASUS\\AppData\\Local\\Temp\\ipykernel_15860\\273367810.py:29: FutureWarning: Passing literal html to 'read_html' is deprecated and will be removed in a future version. To read from a literal string, wrap it in a 'StringIO' object.\n",
      "  matches = pd.read_html(str(team_soup), match=\"Scores & Fixtures\", flavor=\"lxml\")[0]\n",
      "C:\\Users\\ASUS\\AppData\\Local\\Temp\\ipykernel_15860\\273367810.py:45: FutureWarning: Passing literal html to 'read_html' is deprecated and will be removed in a future version. To read from a literal string, wrap it in a 'StringIO' object.\n",
      "  shooting = pd.read_html(str(shooting_soup), match=\"Shooting\", flavor=\"lxml\")[0]\n"
     ]
    },
    {
     "name": "stdout",
     "output_type": "stream",
     "text": [
      "✅ Done: Wolverhampton Wanderers (38 matches)\n",
      "\n",
      "[17/20] Getting data for: Tottenham Hotspur\n"
     ]
    },
    {
     "name": "stderr",
     "output_type": "stream",
     "text": [
      "C:\\Users\\ASUS\\AppData\\Local\\Temp\\ipykernel_15860\\273367810.py:29: FutureWarning: Passing literal html to 'read_html' is deprecated and will be removed in a future version. To read from a literal string, wrap it in a 'StringIO' object.\n",
      "  matches = pd.read_html(str(team_soup), match=\"Scores & Fixtures\", flavor=\"lxml\")[0]\n",
      "C:\\Users\\ASUS\\AppData\\Local\\Temp\\ipykernel_15860\\273367810.py:45: FutureWarning: Passing literal html to 'read_html' is deprecated and will be removed in a future version. To read from a literal string, wrap it in a 'StringIO' object.\n",
      "  shooting = pd.read_html(str(shooting_soup), match=\"Shooting\", flavor=\"lxml\")[0]\n"
     ]
    },
    {
     "name": "stdout",
     "output_type": "stream",
     "text": [
      "✅ Done: Tottenham Hotspur (38 matches)\n",
      "\n",
      "[18/20] Getting data for: Leicester City\n"
     ]
    },
    {
     "name": "stderr",
     "output_type": "stream",
     "text": [
      "C:\\Users\\ASUS\\AppData\\Local\\Temp\\ipykernel_15860\\273367810.py:29: FutureWarning: Passing literal html to 'read_html' is deprecated and will be removed in a future version. To read from a literal string, wrap it in a 'StringIO' object.\n",
      "  matches = pd.read_html(str(team_soup), match=\"Scores & Fixtures\", flavor=\"lxml\")[0]\n",
      "C:\\Users\\ASUS\\AppData\\Local\\Temp\\ipykernel_15860\\273367810.py:45: FutureWarning: Passing literal html to 'read_html' is deprecated and will be removed in a future version. To read from a literal string, wrap it in a 'StringIO' object.\n",
      "  shooting = pd.read_html(str(shooting_soup), match=\"Shooting\", flavor=\"lxml\")[0]\n"
     ]
    },
    {
     "name": "stdout",
     "output_type": "stream",
     "text": [
      "✅ Done: Leicester City (38 matches)\n",
      "\n",
      "[19/20] Getting data for: Ipswich Town\n"
     ]
    },
    {
     "name": "stderr",
     "output_type": "stream",
     "text": [
      "C:\\Users\\ASUS\\AppData\\Local\\Temp\\ipykernel_15860\\273367810.py:29: FutureWarning: Passing literal html to 'read_html' is deprecated and will be removed in a future version. To read from a literal string, wrap it in a 'StringIO' object.\n",
      "  matches = pd.read_html(str(team_soup), match=\"Scores & Fixtures\", flavor=\"lxml\")[0]\n",
      "C:\\Users\\ASUS\\AppData\\Local\\Temp\\ipykernel_15860\\273367810.py:45: FutureWarning: Passing literal html to 'read_html' is deprecated and will be removed in a future version. To read from a literal string, wrap it in a 'StringIO' object.\n",
      "  shooting = pd.read_html(str(shooting_soup), match=\"Shooting\", flavor=\"lxml\")[0]\n"
     ]
    },
    {
     "name": "stdout",
     "output_type": "stream",
     "text": [
      "✅ Done: Ipswich Town (38 matches)\n",
      "\n",
      "[20/20] Getting data for: Southampton\n"
     ]
    },
    {
     "name": "stderr",
     "output_type": "stream",
     "text": [
      "C:\\Users\\ASUS\\AppData\\Local\\Temp\\ipykernel_15860\\273367810.py:29: FutureWarning: Passing literal html to 'read_html' is deprecated and will be removed in a future version. To read from a literal string, wrap it in a 'StringIO' object.\n",
      "  matches = pd.read_html(str(team_soup), match=\"Scores & Fixtures\", flavor=\"lxml\")[0]\n",
      "C:\\Users\\ASUS\\AppData\\Local\\Temp\\ipykernel_15860\\273367810.py:45: FutureWarning: Passing literal html to 'read_html' is deprecated and will be removed in a future version. To read from a literal string, wrap it in a 'StringIO' object.\n",
      "  shooting = pd.read_html(str(shooting_soup), match=\"Shooting\", flavor=\"lxml\")[0]\n"
     ]
    },
    {
     "name": "stdout",
     "output_type": "stream",
     "text": [
      "✅ Done: Southampton (38 matches)\n",
      "\n",
      "📅 Getting data for season 2023...\n",
      "✅ Found 20 teams\n",
      "\n",
      "[1/20] Getting data for: Manchester City\n"
     ]
    },
    {
     "name": "stderr",
     "output_type": "stream",
     "text": [
      "C:\\Users\\ASUS\\AppData\\Local\\Temp\\ipykernel_15860\\273367810.py:29: FutureWarning: Passing literal html to 'read_html' is deprecated and will be removed in a future version. To read from a literal string, wrap it in a 'StringIO' object.\n",
      "  matches = pd.read_html(str(team_soup), match=\"Scores & Fixtures\", flavor=\"lxml\")[0]\n",
      "C:\\Users\\ASUS\\AppData\\Local\\Temp\\ipykernel_15860\\273367810.py:45: FutureWarning: Passing literal html to 'read_html' is deprecated and will be removed in a future version. To read from a literal string, wrap it in a 'StringIO' object.\n",
      "  shooting = pd.read_html(str(shooting_soup), match=\"Shooting\", flavor=\"lxml\")[0]\n"
     ]
    },
    {
     "name": "stdout",
     "output_type": "stream",
     "text": [
      "✅ Done: Manchester City (38 matches)\n",
      "\n",
      "[2/20] Getting data for: Arsenal\n"
     ]
    },
    {
     "name": "stderr",
     "output_type": "stream",
     "text": [
      "C:\\Users\\ASUS\\AppData\\Local\\Temp\\ipykernel_15860\\273367810.py:29: FutureWarning: Passing literal html to 'read_html' is deprecated and will be removed in a future version. To read from a literal string, wrap it in a 'StringIO' object.\n",
      "  matches = pd.read_html(str(team_soup), match=\"Scores & Fixtures\", flavor=\"lxml\")[0]\n",
      "C:\\Users\\ASUS\\AppData\\Local\\Temp\\ipykernel_15860\\273367810.py:45: FutureWarning: Passing literal html to 'read_html' is deprecated and will be removed in a future version. To read from a literal string, wrap it in a 'StringIO' object.\n",
      "  shooting = pd.read_html(str(shooting_soup), match=\"Shooting\", flavor=\"lxml\")[0]\n"
     ]
    },
    {
     "name": "stdout",
     "output_type": "stream",
     "text": [
      "✅ Done: Arsenal (38 matches)\n",
      "\n",
      "[3/20] Getting data for: Liverpool\n"
     ]
    },
    {
     "name": "stderr",
     "output_type": "stream",
     "text": [
      "C:\\Users\\ASUS\\AppData\\Local\\Temp\\ipykernel_15860\\273367810.py:29: FutureWarning: Passing literal html to 'read_html' is deprecated and will be removed in a future version. To read from a literal string, wrap it in a 'StringIO' object.\n",
      "  matches = pd.read_html(str(team_soup), match=\"Scores & Fixtures\", flavor=\"lxml\")[0]\n",
      "C:\\Users\\ASUS\\AppData\\Local\\Temp\\ipykernel_15860\\273367810.py:45: FutureWarning: Passing literal html to 'read_html' is deprecated and will be removed in a future version. To read from a literal string, wrap it in a 'StringIO' object.\n",
      "  shooting = pd.read_html(str(shooting_soup), match=\"Shooting\", flavor=\"lxml\")[0]\n"
     ]
    },
    {
     "name": "stdout",
     "output_type": "stream",
     "text": [
      "✅ Done: Liverpool (38 matches)\n",
      "\n",
      "[4/20] Getting data for: Aston Villa\n"
     ]
    },
    {
     "name": "stderr",
     "output_type": "stream",
     "text": [
      "C:\\Users\\ASUS\\AppData\\Local\\Temp\\ipykernel_15860\\273367810.py:29: FutureWarning: Passing literal html to 'read_html' is deprecated and will be removed in a future version. To read from a literal string, wrap it in a 'StringIO' object.\n",
      "  matches = pd.read_html(str(team_soup), match=\"Scores & Fixtures\", flavor=\"lxml\")[0]\n",
      "C:\\Users\\ASUS\\AppData\\Local\\Temp\\ipykernel_15860\\273367810.py:45: FutureWarning: Passing literal html to 'read_html' is deprecated and will be removed in a future version. To read from a literal string, wrap it in a 'StringIO' object.\n",
      "  shooting = pd.read_html(str(shooting_soup), match=\"Shooting\", flavor=\"lxml\")[0]\n"
     ]
    },
    {
     "name": "stdout",
     "output_type": "stream",
     "text": [
      "✅ Done: Aston Villa (38 matches)\n",
      "\n",
      "[5/20] Getting data for: Tottenham Hotspur\n"
     ]
    },
    {
     "name": "stderr",
     "output_type": "stream",
     "text": [
      "C:\\Users\\ASUS\\AppData\\Local\\Temp\\ipykernel_15860\\273367810.py:29: FutureWarning: Passing literal html to 'read_html' is deprecated and will be removed in a future version. To read from a literal string, wrap it in a 'StringIO' object.\n",
      "  matches = pd.read_html(str(team_soup), match=\"Scores & Fixtures\", flavor=\"lxml\")[0]\n",
      "C:\\Users\\ASUS\\AppData\\Local\\Temp\\ipykernel_15860\\273367810.py:45: FutureWarning: Passing literal html to 'read_html' is deprecated and will be removed in a future version. To read from a literal string, wrap it in a 'StringIO' object.\n",
      "  shooting = pd.read_html(str(shooting_soup), match=\"Shooting\", flavor=\"lxml\")[0]\n"
     ]
    },
    {
     "name": "stdout",
     "output_type": "stream",
     "text": [
      "✅ Done: Tottenham Hotspur (38 matches)\n",
      "\n",
      "[6/20] Getting data for: Chelsea\n"
     ]
    },
    {
     "name": "stderr",
     "output_type": "stream",
     "text": [
      "C:\\Users\\ASUS\\AppData\\Local\\Temp\\ipykernel_15860\\273367810.py:29: FutureWarning: Passing literal html to 'read_html' is deprecated and will be removed in a future version. To read from a literal string, wrap it in a 'StringIO' object.\n",
      "  matches = pd.read_html(str(team_soup), match=\"Scores & Fixtures\", flavor=\"lxml\")[0]\n",
      "C:\\Users\\ASUS\\AppData\\Local\\Temp\\ipykernel_15860\\273367810.py:45: FutureWarning: Passing literal html to 'read_html' is deprecated and will be removed in a future version. To read from a literal string, wrap it in a 'StringIO' object.\n",
      "  shooting = pd.read_html(str(shooting_soup), match=\"Shooting\", flavor=\"lxml\")[0]\n"
     ]
    },
    {
     "name": "stdout",
     "output_type": "stream",
     "text": [
      "✅ Done: Chelsea (38 matches)\n",
      "\n",
      "[7/20] Getting data for: Newcastle United\n"
     ]
    },
    {
     "name": "stderr",
     "output_type": "stream",
     "text": [
      "C:\\Users\\ASUS\\AppData\\Local\\Temp\\ipykernel_15860\\273367810.py:29: FutureWarning: Passing literal html to 'read_html' is deprecated and will be removed in a future version. To read from a literal string, wrap it in a 'StringIO' object.\n",
      "  matches = pd.read_html(str(team_soup), match=\"Scores & Fixtures\", flavor=\"lxml\")[0]\n",
      "C:\\Users\\ASUS\\AppData\\Local\\Temp\\ipykernel_15860\\273367810.py:45: FutureWarning: Passing literal html to 'read_html' is deprecated and will be removed in a future version. To read from a literal string, wrap it in a 'StringIO' object.\n",
      "  shooting = pd.read_html(str(shooting_soup), match=\"Shooting\", flavor=\"lxml\")[0]\n"
     ]
    },
    {
     "name": "stdout",
     "output_type": "stream",
     "text": [
      "✅ Done: Newcastle United (38 matches)\n",
      "\n",
      "[8/20] Getting data for: Manchester United\n"
     ]
    },
    {
     "name": "stderr",
     "output_type": "stream",
     "text": [
      "C:\\Users\\ASUS\\AppData\\Local\\Temp\\ipykernel_15860\\273367810.py:29: FutureWarning: Passing literal html to 'read_html' is deprecated and will be removed in a future version. To read from a literal string, wrap it in a 'StringIO' object.\n",
      "  matches = pd.read_html(str(team_soup), match=\"Scores & Fixtures\", flavor=\"lxml\")[0]\n",
      "C:\\Users\\ASUS\\AppData\\Local\\Temp\\ipykernel_15860\\273367810.py:45: FutureWarning: Passing literal html to 'read_html' is deprecated and will be removed in a future version. To read from a literal string, wrap it in a 'StringIO' object.\n",
      "  shooting = pd.read_html(str(shooting_soup), match=\"Shooting\", flavor=\"lxml\")[0]\n"
     ]
    },
    {
     "name": "stdout",
     "output_type": "stream",
     "text": [
      "✅ Done: Manchester United (38 matches)\n",
      "\n",
      "[9/20] Getting data for: West Ham United\n"
     ]
    },
    {
     "name": "stderr",
     "output_type": "stream",
     "text": [
      "C:\\Users\\ASUS\\AppData\\Local\\Temp\\ipykernel_15860\\273367810.py:29: FutureWarning: Passing literal html to 'read_html' is deprecated and will be removed in a future version. To read from a literal string, wrap it in a 'StringIO' object.\n",
      "  matches = pd.read_html(str(team_soup), match=\"Scores & Fixtures\", flavor=\"lxml\")[0]\n",
      "C:\\Users\\ASUS\\AppData\\Local\\Temp\\ipykernel_15860\\273367810.py:45: FutureWarning: Passing literal html to 'read_html' is deprecated and will be removed in a future version. To read from a literal string, wrap it in a 'StringIO' object.\n",
      "  shooting = pd.read_html(str(shooting_soup), match=\"Shooting\", flavor=\"lxml\")[0]\n"
     ]
    },
    {
     "name": "stdout",
     "output_type": "stream",
     "text": [
      "✅ Done: West Ham United (38 matches)\n",
      "\n",
      "[10/20] Getting data for: Crystal Palace\n"
     ]
    },
    {
     "name": "stderr",
     "output_type": "stream",
     "text": [
      "C:\\Users\\ASUS\\AppData\\Local\\Temp\\ipykernel_15860\\273367810.py:29: FutureWarning: Passing literal html to 'read_html' is deprecated and will be removed in a future version. To read from a literal string, wrap it in a 'StringIO' object.\n",
      "  matches = pd.read_html(str(team_soup), match=\"Scores & Fixtures\", flavor=\"lxml\")[0]\n",
      "C:\\Users\\ASUS\\AppData\\Local\\Temp\\ipykernel_15860\\273367810.py:45: FutureWarning: Passing literal html to 'read_html' is deprecated and will be removed in a future version. To read from a literal string, wrap it in a 'StringIO' object.\n",
      "  shooting = pd.read_html(str(shooting_soup), match=\"Shooting\", flavor=\"lxml\")[0]\n"
     ]
    },
    {
     "name": "stdout",
     "output_type": "stream",
     "text": [
      "✅ Done: Crystal Palace (38 matches)\n",
      "\n",
      "[11/20] Getting data for: Brighton and Hove Albion\n"
     ]
    },
    {
     "name": "stderr",
     "output_type": "stream",
     "text": [
      "C:\\Users\\ASUS\\AppData\\Local\\Temp\\ipykernel_15860\\273367810.py:29: FutureWarning: Passing literal html to 'read_html' is deprecated and will be removed in a future version. To read from a literal string, wrap it in a 'StringIO' object.\n",
      "  matches = pd.read_html(str(team_soup), match=\"Scores & Fixtures\", flavor=\"lxml\")[0]\n",
      "C:\\Users\\ASUS\\AppData\\Local\\Temp\\ipykernel_15860\\273367810.py:45: FutureWarning: Passing literal html to 'read_html' is deprecated and will be removed in a future version. To read from a literal string, wrap it in a 'StringIO' object.\n",
      "  shooting = pd.read_html(str(shooting_soup), match=\"Shooting\", flavor=\"lxml\")[0]\n"
     ]
    },
    {
     "name": "stdout",
     "output_type": "stream",
     "text": [
      "✅ Done: Brighton and Hove Albion (38 matches)\n",
      "\n",
      "[12/20] Getting data for: Bournemouth\n"
     ]
    },
    {
     "name": "stderr",
     "output_type": "stream",
     "text": [
      "C:\\Users\\ASUS\\AppData\\Local\\Temp\\ipykernel_15860\\273367810.py:29: FutureWarning: Passing literal html to 'read_html' is deprecated and will be removed in a future version. To read from a literal string, wrap it in a 'StringIO' object.\n",
      "  matches = pd.read_html(str(team_soup), match=\"Scores & Fixtures\", flavor=\"lxml\")[0]\n",
      "C:\\Users\\ASUS\\AppData\\Local\\Temp\\ipykernel_15860\\273367810.py:45: FutureWarning: Passing literal html to 'read_html' is deprecated and will be removed in a future version. To read from a literal string, wrap it in a 'StringIO' object.\n",
      "  shooting = pd.read_html(str(shooting_soup), match=\"Shooting\", flavor=\"lxml\")[0]\n"
     ]
    },
    {
     "name": "stdout",
     "output_type": "stream",
     "text": [
      "✅ Done: Bournemouth (38 matches)\n",
      "\n",
      "[13/20] Getting data for: Fulham\n"
     ]
    },
    {
     "name": "stderr",
     "output_type": "stream",
     "text": [
      "C:\\Users\\ASUS\\AppData\\Local\\Temp\\ipykernel_15860\\273367810.py:29: FutureWarning: Passing literal html to 'read_html' is deprecated and will be removed in a future version. To read from a literal string, wrap it in a 'StringIO' object.\n",
      "  matches = pd.read_html(str(team_soup), match=\"Scores & Fixtures\", flavor=\"lxml\")[0]\n",
      "C:\\Users\\ASUS\\AppData\\Local\\Temp\\ipykernel_15860\\273367810.py:45: FutureWarning: Passing literal html to 'read_html' is deprecated and will be removed in a future version. To read from a literal string, wrap it in a 'StringIO' object.\n",
      "  shooting = pd.read_html(str(shooting_soup), match=\"Shooting\", flavor=\"lxml\")[0]\n"
     ]
    },
    {
     "name": "stdout",
     "output_type": "stream",
     "text": [
      "✅ Done: Fulham (38 matches)\n",
      "\n",
      "[14/20] Getting data for: Wolverhampton Wanderers\n"
     ]
    },
    {
     "name": "stderr",
     "output_type": "stream",
     "text": [
      "C:\\Users\\ASUS\\AppData\\Local\\Temp\\ipykernel_15860\\273367810.py:29: FutureWarning: Passing literal html to 'read_html' is deprecated and will be removed in a future version. To read from a literal string, wrap it in a 'StringIO' object.\n",
      "  matches = pd.read_html(str(team_soup), match=\"Scores & Fixtures\", flavor=\"lxml\")[0]\n",
      "C:\\Users\\ASUS\\AppData\\Local\\Temp\\ipykernel_15860\\273367810.py:45: FutureWarning: Passing literal html to 'read_html' is deprecated and will be removed in a future version. To read from a literal string, wrap it in a 'StringIO' object.\n",
      "  shooting = pd.read_html(str(shooting_soup), match=\"Shooting\", flavor=\"lxml\")[0]\n"
     ]
    },
    {
     "name": "stdout",
     "output_type": "stream",
     "text": [
      "✅ Done: Wolverhampton Wanderers (38 matches)\n",
      "\n",
      "[15/20] Getting data for: Everton\n"
     ]
    },
    {
     "name": "stderr",
     "output_type": "stream",
     "text": [
      "C:\\Users\\ASUS\\AppData\\Local\\Temp\\ipykernel_15860\\273367810.py:29: FutureWarning: Passing literal html to 'read_html' is deprecated and will be removed in a future version. To read from a literal string, wrap it in a 'StringIO' object.\n",
      "  matches = pd.read_html(str(team_soup), match=\"Scores & Fixtures\", flavor=\"lxml\")[0]\n",
      "C:\\Users\\ASUS\\AppData\\Local\\Temp\\ipykernel_15860\\273367810.py:45: FutureWarning: Passing literal html to 'read_html' is deprecated and will be removed in a future version. To read from a literal string, wrap it in a 'StringIO' object.\n",
      "  shooting = pd.read_html(str(shooting_soup), match=\"Shooting\", flavor=\"lxml\")[0]\n"
     ]
    },
    {
     "name": "stdout",
     "output_type": "stream",
     "text": [
      "✅ Done: Everton (38 matches)\n",
      "\n",
      "[16/20] Getting data for: Brentford\n"
     ]
    },
    {
     "name": "stderr",
     "output_type": "stream",
     "text": [
      "C:\\Users\\ASUS\\AppData\\Local\\Temp\\ipykernel_15860\\273367810.py:29: FutureWarning: Passing literal html to 'read_html' is deprecated and will be removed in a future version. To read from a literal string, wrap it in a 'StringIO' object.\n",
      "  matches = pd.read_html(str(team_soup), match=\"Scores & Fixtures\", flavor=\"lxml\")[0]\n",
      "C:\\Users\\ASUS\\AppData\\Local\\Temp\\ipykernel_15860\\273367810.py:45: FutureWarning: Passing literal html to 'read_html' is deprecated and will be removed in a future version. To read from a literal string, wrap it in a 'StringIO' object.\n",
      "  shooting = pd.read_html(str(shooting_soup), match=\"Shooting\", flavor=\"lxml\")[0]\n"
     ]
    },
    {
     "name": "stdout",
     "output_type": "stream",
     "text": [
      "✅ Done: Brentford (38 matches)\n",
      "\n",
      "[17/20] Getting data for: Nottingham Forest\n"
     ]
    },
    {
     "name": "stderr",
     "output_type": "stream",
     "text": [
      "C:\\Users\\ASUS\\AppData\\Local\\Temp\\ipykernel_15860\\273367810.py:29: FutureWarning: Passing literal html to 'read_html' is deprecated and will be removed in a future version. To read from a literal string, wrap it in a 'StringIO' object.\n",
      "  matches = pd.read_html(str(team_soup), match=\"Scores & Fixtures\", flavor=\"lxml\")[0]\n",
      "C:\\Users\\ASUS\\AppData\\Local\\Temp\\ipykernel_15860\\273367810.py:45: FutureWarning: Passing literal html to 'read_html' is deprecated and will be removed in a future version. To read from a literal string, wrap it in a 'StringIO' object.\n",
      "  shooting = pd.read_html(str(shooting_soup), match=\"Shooting\", flavor=\"lxml\")[0]\n"
     ]
    },
    {
     "name": "stdout",
     "output_type": "stream",
     "text": [
      "✅ Done: Nottingham Forest (38 matches)\n",
      "\n",
      "[18/20] Getting data for: Luton Town\n"
     ]
    },
    {
     "name": "stderr",
     "output_type": "stream",
     "text": [
      "C:\\Users\\ASUS\\AppData\\Local\\Temp\\ipykernel_15860\\273367810.py:29: FutureWarning: Passing literal html to 'read_html' is deprecated and will be removed in a future version. To read from a literal string, wrap it in a 'StringIO' object.\n",
      "  matches = pd.read_html(str(team_soup), match=\"Scores & Fixtures\", flavor=\"lxml\")[0]\n",
      "C:\\Users\\ASUS\\AppData\\Local\\Temp\\ipykernel_15860\\273367810.py:45: FutureWarning: Passing literal html to 'read_html' is deprecated and will be removed in a future version. To read from a literal string, wrap it in a 'StringIO' object.\n",
      "  shooting = pd.read_html(str(shooting_soup), match=\"Shooting\", flavor=\"lxml\")[0]\n"
     ]
    },
    {
     "name": "stdout",
     "output_type": "stream",
     "text": [
      "✅ Done: Luton Town (38 matches)\n",
      "\n",
      "[19/20] Getting data for: Burnley\n"
     ]
    },
    {
     "name": "stderr",
     "output_type": "stream",
     "text": [
      "C:\\Users\\ASUS\\AppData\\Local\\Temp\\ipykernel_15860\\273367810.py:29: FutureWarning: Passing literal html to 'read_html' is deprecated and will be removed in a future version. To read from a literal string, wrap it in a 'StringIO' object.\n",
      "  matches = pd.read_html(str(team_soup), match=\"Scores & Fixtures\", flavor=\"lxml\")[0]\n",
      "C:\\Users\\ASUS\\AppData\\Local\\Temp\\ipykernel_15860\\273367810.py:45: FutureWarning: Passing literal html to 'read_html' is deprecated and will be removed in a future version. To read from a literal string, wrap it in a 'StringIO' object.\n",
      "  shooting = pd.read_html(str(shooting_soup), match=\"Shooting\", flavor=\"lxml\")[0]\n"
     ]
    },
    {
     "name": "stdout",
     "output_type": "stream",
     "text": [
      "✅ Done: Burnley (38 matches)\n",
      "\n",
      "[20/20] Getting data for: Sheffield United\n"
     ]
    },
    {
     "name": "stderr",
     "output_type": "stream",
     "text": [
      "C:\\Users\\ASUS\\AppData\\Local\\Temp\\ipykernel_15860\\273367810.py:29: FutureWarning: Passing literal html to 'read_html' is deprecated and will be removed in a future version. To read from a literal string, wrap it in a 'StringIO' object.\n",
      "  matches = pd.read_html(str(team_soup), match=\"Scores & Fixtures\", flavor=\"lxml\")[0]\n",
      "C:\\Users\\ASUS\\AppData\\Local\\Temp\\ipykernel_15860\\273367810.py:45: FutureWarning: Passing literal html to 'read_html' is deprecated and will be removed in a future version. To read from a literal string, wrap it in a 'StringIO' object.\n",
      "  shooting = pd.read_html(str(shooting_soup), match=\"Shooting\", flavor=\"lxml\")[0]\n"
     ]
    },
    {
     "name": "stdout",
     "output_type": "stream",
     "text": [
      "✅ Done: Sheffield United (38 matches)\n",
      "\n",
      "📅 Getting data for season 2022...\n",
      "✅ Found 20 teams\n",
      "\n",
      "[1/20] Getting data for: Manchester City\n"
     ]
    },
    {
     "name": "stderr",
     "output_type": "stream",
     "text": [
      "C:\\Users\\ASUS\\AppData\\Local\\Temp\\ipykernel_15860\\273367810.py:29: FutureWarning: Passing literal html to 'read_html' is deprecated and will be removed in a future version. To read from a literal string, wrap it in a 'StringIO' object.\n",
      "  matches = pd.read_html(str(team_soup), match=\"Scores & Fixtures\", flavor=\"lxml\")[0]\n",
      "C:\\Users\\ASUS\\AppData\\Local\\Temp\\ipykernel_15860\\273367810.py:45: FutureWarning: Passing literal html to 'read_html' is deprecated and will be removed in a future version. To read from a literal string, wrap it in a 'StringIO' object.\n",
      "  shooting = pd.read_html(str(shooting_soup), match=\"Shooting\", flavor=\"lxml\")[0]\n"
     ]
    },
    {
     "name": "stdout",
     "output_type": "stream",
     "text": [
      "✅ Done: Manchester City (38 matches)\n",
      "\n",
      "[2/20] Getting data for: Arsenal\n"
     ]
    },
    {
     "name": "stderr",
     "output_type": "stream",
     "text": [
      "C:\\Users\\ASUS\\AppData\\Local\\Temp\\ipykernel_15860\\273367810.py:29: FutureWarning: Passing literal html to 'read_html' is deprecated and will be removed in a future version. To read from a literal string, wrap it in a 'StringIO' object.\n",
      "  matches = pd.read_html(str(team_soup), match=\"Scores & Fixtures\", flavor=\"lxml\")[0]\n",
      "C:\\Users\\ASUS\\AppData\\Local\\Temp\\ipykernel_15860\\273367810.py:45: FutureWarning: Passing literal html to 'read_html' is deprecated and will be removed in a future version. To read from a literal string, wrap it in a 'StringIO' object.\n",
      "  shooting = pd.read_html(str(shooting_soup), match=\"Shooting\", flavor=\"lxml\")[0]\n"
     ]
    },
    {
     "name": "stdout",
     "output_type": "stream",
     "text": [
      "✅ Done: Arsenal (38 matches)\n",
      "\n",
      "[3/20] Getting data for: Manchester United\n"
     ]
    },
    {
     "name": "stderr",
     "output_type": "stream",
     "text": [
      "C:\\Users\\ASUS\\AppData\\Local\\Temp\\ipykernel_15860\\273367810.py:29: FutureWarning: Passing literal html to 'read_html' is deprecated and will be removed in a future version. To read from a literal string, wrap it in a 'StringIO' object.\n",
      "  matches = pd.read_html(str(team_soup), match=\"Scores & Fixtures\", flavor=\"lxml\")[0]\n",
      "C:\\Users\\ASUS\\AppData\\Local\\Temp\\ipykernel_15860\\273367810.py:45: FutureWarning: Passing literal html to 'read_html' is deprecated and will be removed in a future version. To read from a literal string, wrap it in a 'StringIO' object.\n",
      "  shooting = pd.read_html(str(shooting_soup), match=\"Shooting\", flavor=\"lxml\")[0]\n"
     ]
    },
    {
     "name": "stdout",
     "output_type": "stream",
     "text": [
      "✅ Done: Manchester United (38 matches)\n",
      "\n",
      "[4/20] Getting data for: Newcastle United\n"
     ]
    },
    {
     "name": "stderr",
     "output_type": "stream",
     "text": [
      "C:\\Users\\ASUS\\AppData\\Local\\Temp\\ipykernel_15860\\273367810.py:29: FutureWarning: Passing literal html to 'read_html' is deprecated and will be removed in a future version. To read from a literal string, wrap it in a 'StringIO' object.\n",
      "  matches = pd.read_html(str(team_soup), match=\"Scores & Fixtures\", flavor=\"lxml\")[0]\n",
      "C:\\Users\\ASUS\\AppData\\Local\\Temp\\ipykernel_15860\\273367810.py:45: FutureWarning: Passing literal html to 'read_html' is deprecated and will be removed in a future version. To read from a literal string, wrap it in a 'StringIO' object.\n",
      "  shooting = pd.read_html(str(shooting_soup), match=\"Shooting\", flavor=\"lxml\")[0]\n"
     ]
    },
    {
     "name": "stdout",
     "output_type": "stream",
     "text": [
      "✅ Done: Newcastle United (38 matches)\n",
      "\n",
      "[5/20] Getting data for: Liverpool\n"
     ]
    },
    {
     "name": "stderr",
     "output_type": "stream",
     "text": [
      "C:\\Users\\ASUS\\AppData\\Local\\Temp\\ipykernel_15860\\273367810.py:29: FutureWarning: Passing literal html to 'read_html' is deprecated and will be removed in a future version. To read from a literal string, wrap it in a 'StringIO' object.\n",
      "  matches = pd.read_html(str(team_soup), match=\"Scores & Fixtures\", flavor=\"lxml\")[0]\n",
      "C:\\Users\\ASUS\\AppData\\Local\\Temp\\ipykernel_15860\\273367810.py:45: FutureWarning: Passing literal html to 'read_html' is deprecated and will be removed in a future version. To read from a literal string, wrap it in a 'StringIO' object.\n",
      "  shooting = pd.read_html(str(shooting_soup), match=\"Shooting\", flavor=\"lxml\")[0]\n"
     ]
    },
    {
     "name": "stdout",
     "output_type": "stream",
     "text": [
      "✅ Done: Liverpool (38 matches)\n",
      "\n",
      "[6/20] Getting data for: Brighton and Hove Albion\n"
     ]
    },
    {
     "name": "stderr",
     "output_type": "stream",
     "text": [
      "C:\\Users\\ASUS\\AppData\\Local\\Temp\\ipykernel_15860\\273367810.py:29: FutureWarning: Passing literal html to 'read_html' is deprecated and will be removed in a future version. To read from a literal string, wrap it in a 'StringIO' object.\n",
      "  matches = pd.read_html(str(team_soup), match=\"Scores & Fixtures\", flavor=\"lxml\")[0]\n",
      "C:\\Users\\ASUS\\AppData\\Local\\Temp\\ipykernel_15860\\273367810.py:45: FutureWarning: Passing literal html to 'read_html' is deprecated and will be removed in a future version. To read from a literal string, wrap it in a 'StringIO' object.\n",
      "  shooting = pd.read_html(str(shooting_soup), match=\"Shooting\", flavor=\"lxml\")[0]\n"
     ]
    },
    {
     "name": "stdout",
     "output_type": "stream",
     "text": [
      "✅ Done: Brighton and Hove Albion (38 matches)\n",
      "\n",
      "[7/20] Getting data for: Aston Villa\n"
     ]
    },
    {
     "name": "stderr",
     "output_type": "stream",
     "text": [
      "C:\\Users\\ASUS\\AppData\\Local\\Temp\\ipykernel_15860\\273367810.py:29: FutureWarning: Passing literal html to 'read_html' is deprecated and will be removed in a future version. To read from a literal string, wrap it in a 'StringIO' object.\n",
      "  matches = pd.read_html(str(team_soup), match=\"Scores & Fixtures\", flavor=\"lxml\")[0]\n",
      "C:\\Users\\ASUS\\AppData\\Local\\Temp\\ipykernel_15860\\273367810.py:45: FutureWarning: Passing literal html to 'read_html' is deprecated and will be removed in a future version. To read from a literal string, wrap it in a 'StringIO' object.\n",
      "  shooting = pd.read_html(str(shooting_soup), match=\"Shooting\", flavor=\"lxml\")[0]\n"
     ]
    },
    {
     "name": "stdout",
     "output_type": "stream",
     "text": [
      "✅ Done: Aston Villa (38 matches)\n",
      "\n",
      "[8/20] Getting data for: Tottenham Hotspur\n"
     ]
    },
    {
     "name": "stderr",
     "output_type": "stream",
     "text": [
      "C:\\Users\\ASUS\\AppData\\Local\\Temp\\ipykernel_15860\\273367810.py:29: FutureWarning: Passing literal html to 'read_html' is deprecated and will be removed in a future version. To read from a literal string, wrap it in a 'StringIO' object.\n",
      "  matches = pd.read_html(str(team_soup), match=\"Scores & Fixtures\", flavor=\"lxml\")[0]\n",
      "C:\\Users\\ASUS\\AppData\\Local\\Temp\\ipykernel_15860\\273367810.py:45: FutureWarning: Passing literal html to 'read_html' is deprecated and will be removed in a future version. To read from a literal string, wrap it in a 'StringIO' object.\n",
      "  shooting = pd.read_html(str(shooting_soup), match=\"Shooting\", flavor=\"lxml\")[0]\n"
     ]
    },
    {
     "name": "stdout",
     "output_type": "stream",
     "text": [
      "✅ Done: Tottenham Hotspur (38 matches)\n",
      "\n",
      "[9/20] Getting data for: Brentford\n"
     ]
    },
    {
     "name": "stderr",
     "output_type": "stream",
     "text": [
      "C:\\Users\\ASUS\\AppData\\Local\\Temp\\ipykernel_15860\\273367810.py:29: FutureWarning: Passing literal html to 'read_html' is deprecated and will be removed in a future version. To read from a literal string, wrap it in a 'StringIO' object.\n",
      "  matches = pd.read_html(str(team_soup), match=\"Scores & Fixtures\", flavor=\"lxml\")[0]\n",
      "C:\\Users\\ASUS\\AppData\\Local\\Temp\\ipykernel_15860\\273367810.py:45: FutureWarning: Passing literal html to 'read_html' is deprecated and will be removed in a future version. To read from a literal string, wrap it in a 'StringIO' object.\n",
      "  shooting = pd.read_html(str(shooting_soup), match=\"Shooting\", flavor=\"lxml\")[0]\n"
     ]
    },
    {
     "name": "stdout",
     "output_type": "stream",
     "text": [
      "✅ Done: Brentford (38 matches)\n",
      "\n",
      "[10/20] Getting data for: Fulham\n"
     ]
    },
    {
     "name": "stderr",
     "output_type": "stream",
     "text": [
      "C:\\Users\\ASUS\\AppData\\Local\\Temp\\ipykernel_15860\\273367810.py:29: FutureWarning: Passing literal html to 'read_html' is deprecated and will be removed in a future version. To read from a literal string, wrap it in a 'StringIO' object.\n",
      "  matches = pd.read_html(str(team_soup), match=\"Scores & Fixtures\", flavor=\"lxml\")[0]\n",
      "C:\\Users\\ASUS\\AppData\\Local\\Temp\\ipykernel_15860\\273367810.py:45: FutureWarning: Passing literal html to 'read_html' is deprecated and will be removed in a future version. To read from a literal string, wrap it in a 'StringIO' object.\n",
      "  shooting = pd.read_html(str(shooting_soup), match=\"Shooting\", flavor=\"lxml\")[0]\n"
     ]
    },
    {
     "name": "stdout",
     "output_type": "stream",
     "text": [
      "✅ Done: Fulham (38 matches)\n",
      "\n",
      "[11/20] Getting data for: Crystal Palace\n"
     ]
    },
    {
     "name": "stderr",
     "output_type": "stream",
     "text": [
      "C:\\Users\\ASUS\\AppData\\Local\\Temp\\ipykernel_15860\\273367810.py:29: FutureWarning: Passing literal html to 'read_html' is deprecated and will be removed in a future version. To read from a literal string, wrap it in a 'StringIO' object.\n",
      "  matches = pd.read_html(str(team_soup), match=\"Scores & Fixtures\", flavor=\"lxml\")[0]\n",
      "C:\\Users\\ASUS\\AppData\\Local\\Temp\\ipykernel_15860\\273367810.py:45: FutureWarning: Passing literal html to 'read_html' is deprecated and will be removed in a future version. To read from a literal string, wrap it in a 'StringIO' object.\n",
      "  shooting = pd.read_html(str(shooting_soup), match=\"Shooting\", flavor=\"lxml\")[0]\n"
     ]
    },
    {
     "name": "stdout",
     "output_type": "stream",
     "text": [
      "✅ Done: Crystal Palace (38 matches)\n",
      "\n",
      "[12/20] Getting data for: Chelsea\n"
     ]
    },
    {
     "name": "stderr",
     "output_type": "stream",
     "text": [
      "C:\\Users\\ASUS\\AppData\\Local\\Temp\\ipykernel_15860\\273367810.py:29: FutureWarning: Passing literal html to 'read_html' is deprecated and will be removed in a future version. To read from a literal string, wrap it in a 'StringIO' object.\n",
      "  matches = pd.read_html(str(team_soup), match=\"Scores & Fixtures\", flavor=\"lxml\")[0]\n",
      "C:\\Users\\ASUS\\AppData\\Local\\Temp\\ipykernel_15860\\273367810.py:45: FutureWarning: Passing literal html to 'read_html' is deprecated and will be removed in a future version. To read from a literal string, wrap it in a 'StringIO' object.\n",
      "  shooting = pd.read_html(str(shooting_soup), match=\"Shooting\", flavor=\"lxml\")[0]\n"
     ]
    },
    {
     "name": "stdout",
     "output_type": "stream",
     "text": [
      "✅ Done: Chelsea (38 matches)\n",
      "\n",
      "[13/20] Getting data for: Wolverhampton Wanderers\n"
     ]
    },
    {
     "name": "stderr",
     "output_type": "stream",
     "text": [
      "C:\\Users\\ASUS\\AppData\\Local\\Temp\\ipykernel_15860\\273367810.py:29: FutureWarning: Passing literal html to 'read_html' is deprecated and will be removed in a future version. To read from a literal string, wrap it in a 'StringIO' object.\n",
      "  matches = pd.read_html(str(team_soup), match=\"Scores & Fixtures\", flavor=\"lxml\")[0]\n",
      "C:\\Users\\ASUS\\AppData\\Local\\Temp\\ipykernel_15860\\273367810.py:45: FutureWarning: Passing literal html to 'read_html' is deprecated and will be removed in a future version. To read from a literal string, wrap it in a 'StringIO' object.\n",
      "  shooting = pd.read_html(str(shooting_soup), match=\"Shooting\", flavor=\"lxml\")[0]\n"
     ]
    },
    {
     "name": "stdout",
     "output_type": "stream",
     "text": [
      "✅ Done: Wolverhampton Wanderers (38 matches)\n",
      "\n",
      "[14/20] Getting data for: West Ham United\n"
     ]
    },
    {
     "name": "stderr",
     "output_type": "stream",
     "text": [
      "C:\\Users\\ASUS\\AppData\\Local\\Temp\\ipykernel_15860\\273367810.py:29: FutureWarning: Passing literal html to 'read_html' is deprecated and will be removed in a future version. To read from a literal string, wrap it in a 'StringIO' object.\n",
      "  matches = pd.read_html(str(team_soup), match=\"Scores & Fixtures\", flavor=\"lxml\")[0]\n",
      "C:\\Users\\ASUS\\AppData\\Local\\Temp\\ipykernel_15860\\273367810.py:45: FutureWarning: Passing literal html to 'read_html' is deprecated and will be removed in a future version. To read from a literal string, wrap it in a 'StringIO' object.\n",
      "  shooting = pd.read_html(str(shooting_soup), match=\"Shooting\", flavor=\"lxml\")[0]\n"
     ]
    },
    {
     "name": "stdout",
     "output_type": "stream",
     "text": [
      "✅ Done: West Ham United (38 matches)\n",
      "\n",
      "[15/20] Getting data for: Bournemouth\n"
     ]
    },
    {
     "name": "stderr",
     "output_type": "stream",
     "text": [
      "C:\\Users\\ASUS\\AppData\\Local\\Temp\\ipykernel_15860\\273367810.py:29: FutureWarning: Passing literal html to 'read_html' is deprecated and will be removed in a future version. To read from a literal string, wrap it in a 'StringIO' object.\n",
      "  matches = pd.read_html(str(team_soup), match=\"Scores & Fixtures\", flavor=\"lxml\")[0]\n",
      "C:\\Users\\ASUS\\AppData\\Local\\Temp\\ipykernel_15860\\273367810.py:45: FutureWarning: Passing literal html to 'read_html' is deprecated and will be removed in a future version. To read from a literal string, wrap it in a 'StringIO' object.\n",
      "  shooting = pd.read_html(str(shooting_soup), match=\"Shooting\", flavor=\"lxml\")[0]\n"
     ]
    },
    {
     "name": "stdout",
     "output_type": "stream",
     "text": [
      "✅ Done: Bournemouth (38 matches)\n",
      "\n",
      "[16/20] Getting data for: Nottingham Forest\n"
     ]
    },
    {
     "name": "stderr",
     "output_type": "stream",
     "text": [
      "C:\\Users\\ASUS\\AppData\\Local\\Temp\\ipykernel_15860\\273367810.py:29: FutureWarning: Passing literal html to 'read_html' is deprecated and will be removed in a future version. To read from a literal string, wrap it in a 'StringIO' object.\n",
      "  matches = pd.read_html(str(team_soup), match=\"Scores & Fixtures\", flavor=\"lxml\")[0]\n",
      "C:\\Users\\ASUS\\AppData\\Local\\Temp\\ipykernel_15860\\273367810.py:45: FutureWarning: Passing literal html to 'read_html' is deprecated and will be removed in a future version. To read from a literal string, wrap it in a 'StringIO' object.\n",
      "  shooting = pd.read_html(str(shooting_soup), match=\"Shooting\", flavor=\"lxml\")[0]\n"
     ]
    },
    {
     "name": "stdout",
     "output_type": "stream",
     "text": [
      "✅ Done: Nottingham Forest (38 matches)\n",
      "\n",
      "[17/20] Getting data for: Everton\n"
     ]
    },
    {
     "name": "stderr",
     "output_type": "stream",
     "text": [
      "C:\\Users\\ASUS\\AppData\\Local\\Temp\\ipykernel_15860\\273367810.py:29: FutureWarning: Passing literal html to 'read_html' is deprecated and will be removed in a future version. To read from a literal string, wrap it in a 'StringIO' object.\n",
      "  matches = pd.read_html(str(team_soup), match=\"Scores & Fixtures\", flavor=\"lxml\")[0]\n",
      "C:\\Users\\ASUS\\AppData\\Local\\Temp\\ipykernel_15860\\273367810.py:45: FutureWarning: Passing literal html to 'read_html' is deprecated and will be removed in a future version. To read from a literal string, wrap it in a 'StringIO' object.\n",
      "  shooting = pd.read_html(str(shooting_soup), match=\"Shooting\", flavor=\"lxml\")[0]\n"
     ]
    },
    {
     "name": "stdout",
     "output_type": "stream",
     "text": [
      "✅ Done: Everton (38 matches)\n",
      "\n",
      "[18/20] Getting data for: Leicester City\n"
     ]
    },
    {
     "name": "stderr",
     "output_type": "stream",
     "text": [
      "C:\\Users\\ASUS\\AppData\\Local\\Temp\\ipykernel_15860\\273367810.py:29: FutureWarning: Passing literal html to 'read_html' is deprecated and will be removed in a future version. To read from a literal string, wrap it in a 'StringIO' object.\n",
      "  matches = pd.read_html(str(team_soup), match=\"Scores & Fixtures\", flavor=\"lxml\")[0]\n",
      "C:\\Users\\ASUS\\AppData\\Local\\Temp\\ipykernel_15860\\273367810.py:45: FutureWarning: Passing literal html to 'read_html' is deprecated and will be removed in a future version. To read from a literal string, wrap it in a 'StringIO' object.\n",
      "  shooting = pd.read_html(str(shooting_soup), match=\"Shooting\", flavor=\"lxml\")[0]\n"
     ]
    },
    {
     "name": "stdout",
     "output_type": "stream",
     "text": [
      "✅ Done: Leicester City (38 matches)\n",
      "\n",
      "[19/20] Getting data for: Leeds United\n"
     ]
    },
    {
     "name": "stderr",
     "output_type": "stream",
     "text": [
      "C:\\Users\\ASUS\\AppData\\Local\\Temp\\ipykernel_15860\\273367810.py:29: FutureWarning: Passing literal html to 'read_html' is deprecated and will be removed in a future version. To read from a literal string, wrap it in a 'StringIO' object.\n",
      "  matches = pd.read_html(str(team_soup), match=\"Scores & Fixtures\", flavor=\"lxml\")[0]\n",
      "C:\\Users\\ASUS\\AppData\\Local\\Temp\\ipykernel_15860\\273367810.py:45: FutureWarning: Passing literal html to 'read_html' is deprecated and will be removed in a future version. To read from a literal string, wrap it in a 'StringIO' object.\n",
      "  shooting = pd.read_html(str(shooting_soup), match=\"Shooting\", flavor=\"lxml\")[0]\n"
     ]
    },
    {
     "name": "stdout",
     "output_type": "stream",
     "text": [
      "✅ Done: Leeds United (38 matches)\n",
      "\n",
      "[20/20] Getting data for: Southampton\n"
     ]
    },
    {
     "name": "stderr",
     "output_type": "stream",
     "text": [
      "C:\\Users\\ASUS\\AppData\\Local\\Temp\\ipykernel_15860\\273367810.py:29: FutureWarning: Passing literal html to 'read_html' is deprecated and will be removed in a future version. To read from a literal string, wrap it in a 'StringIO' object.\n",
      "  matches = pd.read_html(str(team_soup), match=\"Scores & Fixtures\", flavor=\"lxml\")[0]\n",
      "C:\\Users\\ASUS\\AppData\\Local\\Temp\\ipykernel_15860\\273367810.py:45: FutureWarning: Passing literal html to 'read_html' is deprecated and will be removed in a future version. To read from a literal string, wrap it in a 'StringIO' object.\n",
      "  shooting = pd.read_html(str(shooting_soup), match=\"Shooting\", flavor=\"lxml\")[0]\n"
     ]
    },
    {
     "name": "stdout",
     "output_type": "stream",
     "text": [
      "✅ Done: Southampton (38 matches)\n",
      "\n",
      "📅 Getting data for season 2021...\n",
      "✅ Found 20 teams\n",
      "\n",
      "[1/20] Getting data for: Manchester City\n"
     ]
    },
    {
     "name": "stderr",
     "output_type": "stream",
     "text": [
      "C:\\Users\\ASUS\\AppData\\Local\\Temp\\ipykernel_15860\\273367810.py:29: FutureWarning: Passing literal html to 'read_html' is deprecated and will be removed in a future version. To read from a literal string, wrap it in a 'StringIO' object.\n",
      "  matches = pd.read_html(str(team_soup), match=\"Scores & Fixtures\", flavor=\"lxml\")[0]\n",
      "C:\\Users\\ASUS\\AppData\\Local\\Temp\\ipykernel_15860\\273367810.py:45: FutureWarning: Passing literal html to 'read_html' is deprecated and will be removed in a future version. To read from a literal string, wrap it in a 'StringIO' object.\n",
      "  shooting = pd.read_html(str(shooting_soup), match=\"Shooting\", flavor=\"lxml\")[0]\n"
     ]
    },
    {
     "name": "stdout",
     "output_type": "stream",
     "text": [
      "✅ Done: Manchester City (38 matches)\n",
      "\n",
      "[2/20] Getting data for: Liverpool\n"
     ]
    },
    {
     "name": "stderr",
     "output_type": "stream",
     "text": [
      "C:\\Users\\ASUS\\AppData\\Local\\Temp\\ipykernel_15860\\273367810.py:29: FutureWarning: Passing literal html to 'read_html' is deprecated and will be removed in a future version. To read from a literal string, wrap it in a 'StringIO' object.\n",
      "  matches = pd.read_html(str(team_soup), match=\"Scores & Fixtures\", flavor=\"lxml\")[0]\n",
      "C:\\Users\\ASUS\\AppData\\Local\\Temp\\ipykernel_15860\\273367810.py:45: FutureWarning: Passing literal html to 'read_html' is deprecated and will be removed in a future version. To read from a literal string, wrap it in a 'StringIO' object.\n",
      "  shooting = pd.read_html(str(shooting_soup), match=\"Shooting\", flavor=\"lxml\")[0]\n"
     ]
    },
    {
     "name": "stdout",
     "output_type": "stream",
     "text": [
      "✅ Done: Liverpool (38 matches)\n",
      "\n",
      "[3/20] Getting data for: Chelsea\n"
     ]
    },
    {
     "name": "stderr",
     "output_type": "stream",
     "text": [
      "C:\\Users\\ASUS\\AppData\\Local\\Temp\\ipykernel_15860\\273367810.py:29: FutureWarning: Passing literal html to 'read_html' is deprecated and will be removed in a future version. To read from a literal string, wrap it in a 'StringIO' object.\n",
      "  matches = pd.read_html(str(team_soup), match=\"Scores & Fixtures\", flavor=\"lxml\")[0]\n",
      "C:\\Users\\ASUS\\AppData\\Local\\Temp\\ipykernel_15860\\273367810.py:45: FutureWarning: Passing literal html to 'read_html' is deprecated and will be removed in a future version. To read from a literal string, wrap it in a 'StringIO' object.\n",
      "  shooting = pd.read_html(str(shooting_soup), match=\"Shooting\", flavor=\"lxml\")[0]\n"
     ]
    },
    {
     "name": "stdout",
     "output_type": "stream",
     "text": [
      "✅ Done: Chelsea (38 matches)\n",
      "\n",
      "[4/20] Getting data for: Tottenham Hotspur\n"
     ]
    },
    {
     "name": "stderr",
     "output_type": "stream",
     "text": [
      "C:\\Users\\ASUS\\AppData\\Local\\Temp\\ipykernel_15860\\273367810.py:29: FutureWarning: Passing literal html to 'read_html' is deprecated and will be removed in a future version. To read from a literal string, wrap it in a 'StringIO' object.\n",
      "  matches = pd.read_html(str(team_soup), match=\"Scores & Fixtures\", flavor=\"lxml\")[0]\n",
      "C:\\Users\\ASUS\\AppData\\Local\\Temp\\ipykernel_15860\\273367810.py:45: FutureWarning: Passing literal html to 'read_html' is deprecated and will be removed in a future version. To read from a literal string, wrap it in a 'StringIO' object.\n",
      "  shooting = pd.read_html(str(shooting_soup), match=\"Shooting\", flavor=\"lxml\")[0]\n"
     ]
    },
    {
     "name": "stdout",
     "output_type": "stream",
     "text": [
      "✅ Done: Tottenham Hotspur (38 matches)\n",
      "\n",
      "[5/20] Getting data for: Arsenal\n"
     ]
    },
    {
     "name": "stderr",
     "output_type": "stream",
     "text": [
      "C:\\Users\\ASUS\\AppData\\Local\\Temp\\ipykernel_15860\\273367810.py:29: FutureWarning: Passing literal html to 'read_html' is deprecated and will be removed in a future version. To read from a literal string, wrap it in a 'StringIO' object.\n",
      "  matches = pd.read_html(str(team_soup), match=\"Scores & Fixtures\", flavor=\"lxml\")[0]\n",
      "C:\\Users\\ASUS\\AppData\\Local\\Temp\\ipykernel_15860\\273367810.py:45: FutureWarning: Passing literal html to 'read_html' is deprecated and will be removed in a future version. To read from a literal string, wrap it in a 'StringIO' object.\n",
      "  shooting = pd.read_html(str(shooting_soup), match=\"Shooting\", flavor=\"lxml\")[0]\n"
     ]
    },
    {
     "name": "stdout",
     "output_type": "stream",
     "text": [
      "✅ Done: Arsenal (38 matches)\n",
      "\n",
      "[6/20] Getting data for: Manchester United\n"
     ]
    },
    {
     "name": "stderr",
     "output_type": "stream",
     "text": [
      "C:\\Users\\ASUS\\AppData\\Local\\Temp\\ipykernel_15860\\273367810.py:29: FutureWarning: Passing literal html to 'read_html' is deprecated and will be removed in a future version. To read from a literal string, wrap it in a 'StringIO' object.\n",
      "  matches = pd.read_html(str(team_soup), match=\"Scores & Fixtures\", flavor=\"lxml\")[0]\n",
      "C:\\Users\\ASUS\\AppData\\Local\\Temp\\ipykernel_15860\\273367810.py:45: FutureWarning: Passing literal html to 'read_html' is deprecated and will be removed in a future version. To read from a literal string, wrap it in a 'StringIO' object.\n",
      "  shooting = pd.read_html(str(shooting_soup), match=\"Shooting\", flavor=\"lxml\")[0]\n"
     ]
    },
    {
     "name": "stdout",
     "output_type": "stream",
     "text": [
      "✅ Done: Manchester United (38 matches)\n",
      "\n",
      "[7/20] Getting data for: West Ham United\n"
     ]
    },
    {
     "name": "stderr",
     "output_type": "stream",
     "text": [
      "C:\\Users\\ASUS\\AppData\\Local\\Temp\\ipykernel_15860\\273367810.py:29: FutureWarning: Passing literal html to 'read_html' is deprecated and will be removed in a future version. To read from a literal string, wrap it in a 'StringIO' object.\n",
      "  matches = pd.read_html(str(team_soup), match=\"Scores & Fixtures\", flavor=\"lxml\")[0]\n",
      "C:\\Users\\ASUS\\AppData\\Local\\Temp\\ipykernel_15860\\273367810.py:45: FutureWarning: Passing literal html to 'read_html' is deprecated and will be removed in a future version. To read from a literal string, wrap it in a 'StringIO' object.\n",
      "  shooting = pd.read_html(str(shooting_soup), match=\"Shooting\", flavor=\"lxml\")[0]\n"
     ]
    },
    {
     "name": "stdout",
     "output_type": "stream",
     "text": [
      "✅ Done: West Ham United (38 matches)\n",
      "\n",
      "[8/20] Getting data for: Leicester City\n"
     ]
    },
    {
     "name": "stderr",
     "output_type": "stream",
     "text": [
      "C:\\Users\\ASUS\\AppData\\Local\\Temp\\ipykernel_15860\\273367810.py:29: FutureWarning: Passing literal html to 'read_html' is deprecated and will be removed in a future version. To read from a literal string, wrap it in a 'StringIO' object.\n",
      "  matches = pd.read_html(str(team_soup), match=\"Scores & Fixtures\", flavor=\"lxml\")[0]\n",
      "C:\\Users\\ASUS\\AppData\\Local\\Temp\\ipykernel_15860\\273367810.py:45: FutureWarning: Passing literal html to 'read_html' is deprecated and will be removed in a future version. To read from a literal string, wrap it in a 'StringIO' object.\n",
      "  shooting = pd.read_html(str(shooting_soup), match=\"Shooting\", flavor=\"lxml\")[0]\n"
     ]
    },
    {
     "name": "stdout",
     "output_type": "stream",
     "text": [
      "✅ Done: Leicester City (38 matches)\n",
      "\n",
      "[9/20] Getting data for: Brighton and Hove Albion\n"
     ]
    },
    {
     "name": "stderr",
     "output_type": "stream",
     "text": [
      "C:\\Users\\ASUS\\AppData\\Local\\Temp\\ipykernel_15860\\273367810.py:29: FutureWarning: Passing literal html to 'read_html' is deprecated and will be removed in a future version. To read from a literal string, wrap it in a 'StringIO' object.\n",
      "  matches = pd.read_html(str(team_soup), match=\"Scores & Fixtures\", flavor=\"lxml\")[0]\n",
      "C:\\Users\\ASUS\\AppData\\Local\\Temp\\ipykernel_15860\\273367810.py:45: FutureWarning: Passing literal html to 'read_html' is deprecated and will be removed in a future version. To read from a literal string, wrap it in a 'StringIO' object.\n",
      "  shooting = pd.read_html(str(shooting_soup), match=\"Shooting\", flavor=\"lxml\")[0]\n"
     ]
    },
    {
     "name": "stdout",
     "output_type": "stream",
     "text": [
      "✅ Done: Brighton and Hove Albion (38 matches)\n",
      "\n",
      "[10/20] Getting data for: Wolverhampton Wanderers\n"
     ]
    },
    {
     "name": "stderr",
     "output_type": "stream",
     "text": [
      "C:\\Users\\ASUS\\AppData\\Local\\Temp\\ipykernel_15860\\273367810.py:29: FutureWarning: Passing literal html to 'read_html' is deprecated and will be removed in a future version. To read from a literal string, wrap it in a 'StringIO' object.\n",
      "  matches = pd.read_html(str(team_soup), match=\"Scores & Fixtures\", flavor=\"lxml\")[0]\n",
      "C:\\Users\\ASUS\\AppData\\Local\\Temp\\ipykernel_15860\\273367810.py:45: FutureWarning: Passing literal html to 'read_html' is deprecated and will be removed in a future version. To read from a literal string, wrap it in a 'StringIO' object.\n",
      "  shooting = pd.read_html(str(shooting_soup), match=\"Shooting\", flavor=\"lxml\")[0]\n"
     ]
    },
    {
     "name": "stdout",
     "output_type": "stream",
     "text": [
      "✅ Done: Wolverhampton Wanderers (38 matches)\n",
      "\n",
      "[11/20] Getting data for: Newcastle United\n"
     ]
    },
    {
     "name": "stderr",
     "output_type": "stream",
     "text": [
      "C:\\Users\\ASUS\\AppData\\Local\\Temp\\ipykernel_15860\\273367810.py:29: FutureWarning: Passing literal html to 'read_html' is deprecated and will be removed in a future version. To read from a literal string, wrap it in a 'StringIO' object.\n",
      "  matches = pd.read_html(str(team_soup), match=\"Scores & Fixtures\", flavor=\"lxml\")[0]\n",
      "C:\\Users\\ASUS\\AppData\\Local\\Temp\\ipykernel_15860\\273367810.py:45: FutureWarning: Passing literal html to 'read_html' is deprecated and will be removed in a future version. To read from a literal string, wrap it in a 'StringIO' object.\n",
      "  shooting = pd.read_html(str(shooting_soup), match=\"Shooting\", flavor=\"lxml\")[0]\n"
     ]
    },
    {
     "name": "stdout",
     "output_type": "stream",
     "text": [
      "✅ Done: Newcastle United (38 matches)\n",
      "\n",
      "[12/20] Getting data for: Crystal Palace\n"
     ]
    },
    {
     "name": "stderr",
     "output_type": "stream",
     "text": [
      "C:\\Users\\ASUS\\AppData\\Local\\Temp\\ipykernel_15860\\273367810.py:29: FutureWarning: Passing literal html to 'read_html' is deprecated and will be removed in a future version. To read from a literal string, wrap it in a 'StringIO' object.\n",
      "  matches = pd.read_html(str(team_soup), match=\"Scores & Fixtures\", flavor=\"lxml\")[0]\n",
      "C:\\Users\\ASUS\\AppData\\Local\\Temp\\ipykernel_15860\\273367810.py:45: FutureWarning: Passing literal html to 'read_html' is deprecated and will be removed in a future version. To read from a literal string, wrap it in a 'StringIO' object.\n",
      "  shooting = pd.read_html(str(shooting_soup), match=\"Shooting\", flavor=\"lxml\")[0]\n"
     ]
    },
    {
     "name": "stdout",
     "output_type": "stream",
     "text": [
      "✅ Done: Crystal Palace (38 matches)\n",
      "\n",
      "[13/20] Getting data for: Brentford\n"
     ]
    },
    {
     "name": "stderr",
     "output_type": "stream",
     "text": [
      "C:\\Users\\ASUS\\AppData\\Local\\Temp\\ipykernel_15860\\273367810.py:29: FutureWarning: Passing literal html to 'read_html' is deprecated and will be removed in a future version. To read from a literal string, wrap it in a 'StringIO' object.\n",
      "  matches = pd.read_html(str(team_soup), match=\"Scores & Fixtures\", flavor=\"lxml\")[0]\n",
      "C:\\Users\\ASUS\\AppData\\Local\\Temp\\ipykernel_15860\\273367810.py:45: FutureWarning: Passing literal html to 'read_html' is deprecated and will be removed in a future version. To read from a literal string, wrap it in a 'StringIO' object.\n",
      "  shooting = pd.read_html(str(shooting_soup), match=\"Shooting\", flavor=\"lxml\")[0]\n"
     ]
    },
    {
     "name": "stdout",
     "output_type": "stream",
     "text": [
      "✅ Done: Brentford (38 matches)\n",
      "\n",
      "[14/20] Getting data for: Aston Villa\n"
     ]
    },
    {
     "name": "stderr",
     "output_type": "stream",
     "text": [
      "C:\\Users\\ASUS\\AppData\\Local\\Temp\\ipykernel_15860\\273367810.py:29: FutureWarning: Passing literal html to 'read_html' is deprecated and will be removed in a future version. To read from a literal string, wrap it in a 'StringIO' object.\n",
      "  matches = pd.read_html(str(team_soup), match=\"Scores & Fixtures\", flavor=\"lxml\")[0]\n",
      "C:\\Users\\ASUS\\AppData\\Local\\Temp\\ipykernel_15860\\273367810.py:45: FutureWarning: Passing literal html to 'read_html' is deprecated and will be removed in a future version. To read from a literal string, wrap it in a 'StringIO' object.\n",
      "  shooting = pd.read_html(str(shooting_soup), match=\"Shooting\", flavor=\"lxml\")[0]\n"
     ]
    },
    {
     "name": "stdout",
     "output_type": "stream",
     "text": [
      "✅ Done: Aston Villa (38 matches)\n",
      "\n",
      "[15/20] Getting data for: Southampton\n"
     ]
    },
    {
     "name": "stderr",
     "output_type": "stream",
     "text": [
      "C:\\Users\\ASUS\\AppData\\Local\\Temp\\ipykernel_15860\\273367810.py:29: FutureWarning: Passing literal html to 'read_html' is deprecated and will be removed in a future version. To read from a literal string, wrap it in a 'StringIO' object.\n",
      "  matches = pd.read_html(str(team_soup), match=\"Scores & Fixtures\", flavor=\"lxml\")[0]\n",
      "C:\\Users\\ASUS\\AppData\\Local\\Temp\\ipykernel_15860\\273367810.py:45: FutureWarning: Passing literal html to 'read_html' is deprecated and will be removed in a future version. To read from a literal string, wrap it in a 'StringIO' object.\n",
      "  shooting = pd.read_html(str(shooting_soup), match=\"Shooting\", flavor=\"lxml\")[0]\n"
     ]
    },
    {
     "name": "stdout",
     "output_type": "stream",
     "text": [
      "✅ Done: Southampton (38 matches)\n",
      "\n",
      "[16/20] Getting data for: Everton\n"
     ]
    },
    {
     "name": "stderr",
     "output_type": "stream",
     "text": [
      "C:\\Users\\ASUS\\AppData\\Local\\Temp\\ipykernel_15860\\273367810.py:29: FutureWarning: Passing literal html to 'read_html' is deprecated and will be removed in a future version. To read from a literal string, wrap it in a 'StringIO' object.\n",
      "  matches = pd.read_html(str(team_soup), match=\"Scores & Fixtures\", flavor=\"lxml\")[0]\n",
      "C:\\Users\\ASUS\\AppData\\Local\\Temp\\ipykernel_15860\\273367810.py:45: FutureWarning: Passing literal html to 'read_html' is deprecated and will be removed in a future version. To read from a literal string, wrap it in a 'StringIO' object.\n",
      "  shooting = pd.read_html(str(shooting_soup), match=\"Shooting\", flavor=\"lxml\")[0]\n"
     ]
    },
    {
     "name": "stdout",
     "output_type": "stream",
     "text": [
      "✅ Done: Everton (38 matches)\n",
      "\n",
      "[17/20] Getting data for: Leeds United\n"
     ]
    },
    {
     "name": "stderr",
     "output_type": "stream",
     "text": [
      "C:\\Users\\ASUS\\AppData\\Local\\Temp\\ipykernel_15860\\273367810.py:29: FutureWarning: Passing literal html to 'read_html' is deprecated and will be removed in a future version. To read from a literal string, wrap it in a 'StringIO' object.\n",
      "  matches = pd.read_html(str(team_soup), match=\"Scores & Fixtures\", flavor=\"lxml\")[0]\n",
      "C:\\Users\\ASUS\\AppData\\Local\\Temp\\ipykernel_15860\\273367810.py:45: FutureWarning: Passing literal html to 'read_html' is deprecated and will be removed in a future version. To read from a literal string, wrap it in a 'StringIO' object.\n",
      "  shooting = pd.read_html(str(shooting_soup), match=\"Shooting\", flavor=\"lxml\")[0]\n"
     ]
    },
    {
     "name": "stdout",
     "output_type": "stream",
     "text": [
      "✅ Done: Leeds United (38 matches)\n",
      "\n",
      "[18/20] Getting data for: Burnley\n"
     ]
    },
    {
     "name": "stderr",
     "output_type": "stream",
     "text": [
      "C:\\Users\\ASUS\\AppData\\Local\\Temp\\ipykernel_15860\\273367810.py:29: FutureWarning: Passing literal html to 'read_html' is deprecated and will be removed in a future version. To read from a literal string, wrap it in a 'StringIO' object.\n",
      "  matches = pd.read_html(str(team_soup), match=\"Scores & Fixtures\", flavor=\"lxml\")[0]\n",
      "C:\\Users\\ASUS\\AppData\\Local\\Temp\\ipykernel_15860\\273367810.py:45: FutureWarning: Passing literal html to 'read_html' is deprecated and will be removed in a future version. To read from a literal string, wrap it in a 'StringIO' object.\n",
      "  shooting = pd.read_html(str(shooting_soup), match=\"Shooting\", flavor=\"lxml\")[0]\n"
     ]
    },
    {
     "name": "stdout",
     "output_type": "stream",
     "text": [
      "✅ Done: Burnley (38 matches)\n",
      "\n",
      "[19/20] Getting data for: Watford\n"
     ]
    },
    {
     "name": "stderr",
     "output_type": "stream",
     "text": [
      "C:\\Users\\ASUS\\AppData\\Local\\Temp\\ipykernel_15860\\273367810.py:29: FutureWarning: Passing literal html to 'read_html' is deprecated and will be removed in a future version. To read from a literal string, wrap it in a 'StringIO' object.\n",
      "  matches = pd.read_html(str(team_soup), match=\"Scores & Fixtures\", flavor=\"lxml\")[0]\n",
      "C:\\Users\\ASUS\\AppData\\Local\\Temp\\ipykernel_15860\\273367810.py:45: FutureWarning: Passing literal html to 'read_html' is deprecated and will be removed in a future version. To read from a literal string, wrap it in a 'StringIO' object.\n",
      "  shooting = pd.read_html(str(shooting_soup), match=\"Shooting\", flavor=\"lxml\")[0]\n"
     ]
    },
    {
     "name": "stdout",
     "output_type": "stream",
     "text": [
      "✅ Done: Watford (38 matches)\n",
      "\n",
      "[20/20] Getting data for: Norwich City\n"
     ]
    },
    {
     "name": "stderr",
     "output_type": "stream",
     "text": [
      "C:\\Users\\ASUS\\AppData\\Local\\Temp\\ipykernel_15860\\273367810.py:29: FutureWarning: Passing literal html to 'read_html' is deprecated and will be removed in a future version. To read from a literal string, wrap it in a 'StringIO' object.\n",
      "  matches = pd.read_html(str(team_soup), match=\"Scores & Fixtures\", flavor=\"lxml\")[0]\n",
      "C:\\Users\\ASUS\\AppData\\Local\\Temp\\ipykernel_15860\\273367810.py:45: FutureWarning: Passing literal html to 'read_html' is deprecated and will be removed in a future version. To read from a literal string, wrap it in a 'StringIO' object.\n",
      "  shooting = pd.read_html(str(shooting_soup), match=\"Shooting\", flavor=\"lxml\")[0]\n"
     ]
    },
    {
     "name": "stdout",
     "output_type": "stream",
     "text": [
      "✅ Done: Norwich City (38 matches)\n"
     ]
    }
   ],
   "source": [
    "driver = webdriver.Chrome(options=options)\n",
    "\n",
    "try:\n",
    "    for year in years:\n",
    "        print(f\"\\n📅 Getting data for season {year}...\")\n",
    "        driver.get(standing_url)\n",
    "        time.sleep(5)\n",
    "        soup = BeautifulSoup(driver.page_source, \"html.parser\")\n",
    "        standings_table = soup.select_one(\"table.stats_table\")\n",
    "\n",
    "        if standings_table is None:\n",
    "            print(\"❌ Could not find the standings table.\")\n",
    "            break\n",
    "\n",
    "        team_links = [a.get(\"href\") for a in standings_table.find_all(\"a\") if \"/squads/\" in a.get(\"href\", \"\")]\n",
    "        team_urls = [base_url + link for link in team_links]\n",
    "        print(f\"✅ Found {len(team_urls)} teams\")\n",
    "        \n",
    "        for i, team_url in enumerate(team_urls, start=1):\n",
    "            team_name = team_url.split(\"/\")[-1].replace(\"-Stats\", \"\").replace(\"-\", \" \")\n",
    "            print(f\"\\n[{i}/{len(team_urls)}] Getting data for: {team_name}\")\n",
    "            \n",
    "            try:\n",
    "                driver.get(team_url)\n",
    "                time.sleep(5)\n",
    "                team_soup = BeautifulSoup(driver.page_source, \"html.parser\")\n",
    "                \n",
    "                # Get matches\n",
    "                matches = pd.read_html(str(team_soup), match=\"Scores & Fixtures\", flavor=\"lxml\")[0]\n",
    "                \n",
    "                # Find shooting links\n",
    "                links = [a.get(\"href\") for a in team_soup.find_all(\"a\") if a.get(\"href\")]\n",
    "                shooting_links = [l for l in links if \"all_comps/shooting/\" in l]\n",
    "                \n",
    "                if not shooting_links:\n",
    "                    print(\"⚠️ No shooting record found for this team.\")\n",
    "                    continue\n",
    "                \n",
    "                # Get shooting data\n",
    "                shooting_url = f\"{base_url}{shooting_links[0]}\"\n",
    "                driver.get(shooting_url)\n",
    "                time.sleep(5)\n",
    "                shooting_soup = BeautifulSoup(driver.page_source, \"html.parser\")\n",
    "                \n",
    "                shooting = pd.read_html(str(shooting_soup), match=\"Shooting\", flavor=\"lxml\")[0]\n",
    "                shooting.columns = shooting.columns.droplevel()\n",
    "                \n",
    "                # Merge data\n",
    "                team_data = matches.merge(shooting[['Date','Sh','SoT','Dist','FK','PK','PKatt']], on='Date', how='left')\n",
    "                team_data = team_data[team_data[\"Comp\"] == \"Premier League\"].copy()\n",
    "                team_data[\"Season\"] = year\n",
    "                team_data[\"Team\"] = team_name\n",
    "                all_matches.append(team_data)\n",
    "                print(f\"✅ Done: {team_name} ({len(team_data)} matches)\")\n",
    "                \n",
    "            except Exception as e:\n",
    "                print(f\"❌ Error processing {team_name}: {e}\")\n",
    "                # Recreate driver if session is lost\n",
    "                try:\n",
    "                    driver.quit()\n",
    "                except:\n",
    "                    pass\n",
    "                driver = webdriver.Chrome(options=options)\n",
    "                continue\n",
    "            \n",
    "            time.sleep(3)  # Rate limiting\n",
    "\n",
    "        prev_link = soup.select_one(\"a.prev\")\n",
    "        if not prev_link:\n",
    "            print(\"🏁 No previous season link found, ending.\")\n",
    "            break\n",
    "        standing_url = base_url + prev_link.get(\"href\")\n",
    "\n",
    "finally:\n",
    "    driver.quit()"
   ]
  },
  {
   "cell_type": "code",
   "execution_count": 17,
   "id": "8afee85c",
   "metadata": {},
   "outputs": [
    {
     "name": "stdout",
     "output_type": "stream",
     "text": [
      "\n",
      "✅ All data collected!\n",
      "         Date           Time            Comp        Round  Day Venue Result  \\\n",
      "0  2025-08-17  16:30 (22:30)  Premier League  Matchweek 1  Sun  Away      W   \n",
      "1  2025-08-23  17:30 (23:30)  Premier League  Matchweek 2  Sat  Home      W   \n",
      "2  2025-08-31  16:30 (22:30)  Premier League  Matchweek 3  Sun  Away      L   \n",
      "3  2025-09-13  12:30 (18:30)  Premier League  Matchweek 4  Sat  Home      W   \n",
      "4  2025-09-21  16:30 (22:30)  Premier League  Matchweek 5  Sun  Home      D   \n",
      "\n",
      "  GF GA         Opponent  ...  Match Report Notes    Sh  SoT  Dist   FK   PK  \\\n",
      "0  1  0   Manchester Utd  ...  Match Report   NaN   9.0  3.0  18.6  1.0  0.0   \n",
      "1  5  0     Leeds United  ...  Match Report   NaN  17.0  4.0  15.2  0.0  1.0   \n",
      "2  0  1        Liverpool  ...  Match Report   NaN  11.0  1.0  17.5  1.0  0.0   \n",
      "3  3  0  Nott'ham Forest  ...  Match Report   NaN  16.0  5.0  13.5  0.0  0.0   \n",
      "4  1  1  Manchester City  ...  Match Report   NaN  12.0  3.0  14.1  0.0  0.0   \n",
      "\n",
      "  PKatt Season     Team  \n",
      "0   0.0   2025  Arsenal  \n",
      "1   1.0   2025  Arsenal  \n",
      "2   0.0   2025  Arsenal  \n",
      "3   0.0   2025  Arsenal  \n",
      "4   0.0   2025  Arsenal  \n",
      "\n",
      "[5 rows x 28 columns]\n",
      "\n",
      "💾 Saved to premier_league_multi_season.csv\n"
     ]
    }
   ],
   "source": [
    "final_df = pd.concat(all_matches, ignore_index=True)\n",
    "print(\"\\n✅ All data collected!\")\n",
    "print(final_df.head())\n",
    "\n",
    "# --- Lưu file ---\n",
    "final_df.to_csv(\"premier_league_multi_season.csv\", index=False)\n",
    "print(\"\\n💾 Saved to premier_league_multi_season.csv\")"
   ]
  }
 ],
 "metadata": {
  "kernelspec": {
   "display_name": "Python 3",
   "language": "python",
   "name": "python3"
  },
  "language_info": {
   "codemirror_mode": {
    "name": "ipython",
    "version": 3
   },
   "file_extension": ".py",
   "mimetype": "text/x-python",
   "name": "python",
   "nbconvert_exporter": "python",
   "pygments_lexer": "ipython3",
   "version": "3.12.10"
  }
 },
 "nbformat": 4,
 "nbformat_minor": 5
}
